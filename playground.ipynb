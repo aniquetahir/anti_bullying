{
 "cells": [
  {
   "cell_type": "code",
   "execution_count": 39,
   "metadata": {
    "collapsed": true
   },
   "outputs": [],
   "source": [
    "import pandas as pd\n",
    "import numpy as np\n",
    "from scipy import stats as st\n",
    "import json\n",
    "import os\n",
    "import unicodedata\n",
    "from collections import defaultdict\n",
    "import networkx as nx\n",
    "import matplotlib.pyplot as plt\n",
    "from fa2 import ForceAtlas2\n",
    "from functools import reduce\n",
    "%matplotlib inline"
   ]
  },
  {
   "cell_type": "code",
   "execution_count": 2,
   "outputs": [],
   "source": [
    "forceatlas2 = ForceAtlas2(\n",
    "    # Behavior alternatives\n",
    "    outboundAttractionDistribution=True,  # Dissuade hubs\n",
    "    linLogMode=False,  # NOT IMPLEMENTED\n",
    "    adjustSizes=False,  # Prevent overlap (NOT IMPLEMENTED)\n",
    "    edgeWeightInfluence=1.0,\n",
    "\n",
    "    # Performance\n",
    "    jitterTolerance=1.0,  # Tolerance\n",
    "    barnesHutOptimize=True,\n",
    "    barnesHutTheta=1.2,\n",
    "    multiThreaded=False,  # NOT IMPLEMENTED\n",
    "\n",
    "    # Tuning\n",
    "    scalingRatio=2.0,\n",
    "    strongGravityMode=False,\n",
    "    gravity=1.0,\n",
    "\n",
    "    # Log\n",
    "    verbose=True)"
   ],
   "metadata": {
    "collapsed": false
   }
  },
  {
   "cell_type": "code",
   "execution_count": 2,
   "outputs": [],
   "source": [],
   "metadata": {
    "collapsed": false
   }
  },
  {
   "cell_type": "code",
   "execution_count": 3,
   "outputs": [],
   "source": [
    "instagram_data_dir = \"instagram_100_sessions/Compiled and Totaled Sessions 2020\""
   ],
   "metadata": {
    "collapsed": false
   }
  },
  {
   "cell_type": "code",
   "execution_count": 4,
   "outputs": [],
   "source": [
    "xl_file_names = [os.path.join(instagram_data_dir, x) for x in os.listdir(instagram_data_dir) if x.endswith('.xlsx') and 'Totals' not in x]"
   ],
   "metadata": {
    "collapsed": false
   }
  },
  {
   "cell_type": "code",
   "execution_count": 5,
   "outputs": [],
   "source": [
    "xl_files = [os.path.join(instagram_data_dir, x) for x in os.listdir(instagram_data_dir) if x.endswith('.xlsx') and 'Totals' not in x]"
   ],
   "metadata": {
    "collapsed": false
   }
  },
  {
   "cell_type": "code",
   "execution_count": 6,
   "outputs": [
    {
     "data": {
      "text/plain": "['instagram_100_sessions/Compiled and Totaled Sessions 2020/CB IG Compiled Coding Set 1 - 2020 (Revised 2.0).xlsx',\n 'instagram_100_sessions/Compiled and Totaled Sessions 2020/CB IG Compiled Coding Set 2 - 2020 (Revised 2.0).xlsx',\n 'instagram_100_sessions/Compiled and Totaled Sessions 2020/CB IG Compiled Coding Set 5 - 2020 (Revised 2.0).xlsx',\n 'instagram_100_sessions/Compiled and Totaled Sessions 2020/CB IG Compiled Coding Set 3 - 2020 (Revised 2.0).xlsx',\n 'instagram_100_sessions/Compiled and Totaled Sessions 2020/CB IG Compiled Coding Set 4 - 2020 (Revised 2.0).xlsx']"
     },
     "execution_count": 6,
     "metadata": {},
     "output_type": "execute_result"
    }
   ],
   "source": [
    "xl_files"
   ],
   "metadata": {
    "collapsed": false
   }
  },
  {
   "cell_type": "code",
   "execution_count": 7,
   "outputs": [],
   "source": [
    "t_xl_file = pd.ExcelFile(xl_files[0])"
   ],
   "metadata": {
    "collapsed": false
   }
  },
  {
   "cell_type": "code",
   "execution_count": 8,
   "outputs": [
    {
     "data": {
      "text/plain": "['1 Overall CB - Yes',\n '2 Overall CB - No',\n '3 Overall CB - No',\n '4 Overall CB - No',\n '5 Overall CB - No',\n '6 Overall CB - No',\n '7 Overall CB - No',\n '8 Overall CB - Yes',\n '9 Overall CB - No',\n '10 Overall CB - No',\n '11 Overall CB - No',\n '12 Overall CB - No',\n '13 Overall CB - Yes',\n '14 Overall CB - No',\n '15 Overall CB - No',\n '16 Overall CB - No',\n '17 Overall CB - Yes',\n '18 Overall CB - Yes',\n '19 Overall CB - No',\n '20 Overall CB - Yes']"
     },
     "execution_count": 8,
     "metadata": {},
     "output_type": "execute_result"
    }
   ],
   "source": [
    "t_xl_file.sheet_names"
   ],
   "metadata": {
    "collapsed": false
   }
  },
  {
   "cell_type": "code",
   "execution_count": 9,
   "outputs": [
    {
     "data": {
      "text/plain": "        Unnamed: 0          Unnamed: 1  \\\n0   witneycarson                   NaN   \n1   Comment Number  Commenter Username   \n2                1      britterkritter   \n3                2       caitlynirenie   \n4                3            alnsalzr   \n5                4         aftonnoelle   \n6                5            shashtay   \n7                6          darlahood7   \n8                7        laceyleabell   \n9                8               vad_a   \n10               9            ranazaya   \n11              10      kyleepickering   \n12              11             reb2633   \n13              12            lexiluu1   \n14              13             zoxis07   \n15              14             nedved_   \n\n                                           Unnamed: 2  \\\n0   Anyone see the Pepsi halftime show commercial ...   \n1                                             Comment   \n2                                        I seen you!    \n3                                     Get it girl!!!    \n4                                       Loved it Wit    \n5                              We saw it.. Damn girl    \n6                       _Å½Ã›Â_Å½â€šÂ so awesome!!    \n7                                        Loved it!!!    \n8          You're the cutest little bad ass ever. :)    \n9   I haven't seen any of those dudes. I was watch...   \n10  Amazing!!!! _Å½Ã›Â_Å½Ã›Â_Å½Ã›Â love you _Å½...   \n11                                     We saw you!!!    \n12     I thought they weren't allowed on the couch?!    \n13                                       I saw you!!    \n14  _ÂÂ_Â_Â_ÂÂ±Â_ Â_ÂÂ±ÂÂ±_Ã‘ Â_ÂÂ±ÂÂ±...   \n15                           Â__Ã‘ Â_Â_ÂÂ±Â_ (:    \n\n                                 Unnamed: 3  \\\n0   Media posted at 2014-01-27 03:59:56\\n\\n   \n1                         Comment Post Time   \n2          (created_at:2014-01-27 04:10:11)   \n3          (created_at:2014-01-27 04:19:24)   \n4          (created_at:2014-01-27 04:22:34)   \n5          (created_at:2014-01-27 04:54:38)   \n6          (created_at:2014-01-27 04:55:26)   \n7          (created_at:2014-01-27 04:56:47)   \n8          (created_at:2014-01-27 05:24:25)   \n9          (created_at:2014-01-27 05:25:43)   \n10         (created_at:2014-01-27 05:26:27)   \n11         (created_at:2014-01-27 05:46:12)   \n12         (created_at:2014-01-27 14:22:18)   \n13         (created_at:2014-02-09 22:01:27)   \n14         (created_at:2014-03-28 21:33:39)   \n15         (created_at:2014-10-07 02:07:48)   \n\n   CB Comment: Whether comment overall was a CB comment or not (1= CB 0= No CB)  \\\n0                                          CB_Comment                             \n1                                                 NaN                             \n2                                                   0                             \n3                                                   0                             \n4                                                   0                             \n5                                                   0                             \n6                                                   0                             \n7                                                   0                             \n8                                                   0                             \n9                                                   0                             \n10                                                  0                             \n11                                                  0                             \n12                                                  0                             \n13                                                  0                             \n14                                                  0                             \n15                                                  0                             \n\n    Content: The type of CB used in the comment  \\\n0                                           NaN   \n1                                           NaN   \n2                                           NaN   \n3                                           NaN   \n4                                           NaN   \n5                                           NaN   \n6                                           NaN   \n7                                           NaN   \n8                                           NaN   \n9                                           NaN   \n10                                          NaN   \n11                                          NaN   \n12                                          NaN   \n13                                          NaN   \n14                                          NaN   \n15                                          NaN   \n\n   1= Sexual; but NOT sexual/gender identity (e.g. \"whore\")    0= N/A  \\\n0                                           Content_A                   \n1                                                 NaN                   \n2                                                 NaN                   \n3                                                 NaN                   \n4                                                 NaN                   \n5                                                 NaN                   \n6                                                 NaN                   \n7                                                 NaN                   \n8                                                 NaN                   \n9                                                                       \n10                                                NaN                   \n11                                                NaN                   \n12                                                NaN                   \n13                                                NaN                   \n14                                                NaN                   \n15                                                NaN                   \n\n    Unnamed: 7  Unnamed: 8  \\\n0          NaN         NaN   \n1          NaN         NaN   \n2          NaN         NaN   \n3          NaN         NaN   \n4          NaN         NaN   \n5          NaN         NaN   \n6          NaN         NaN   \n7          NaN         NaN   \n8          NaN         NaN   \n9          NaN         NaN   \n10         NaN         NaN   \n11         NaN         NaN   \n12         NaN         NaN   \n13         NaN         NaN   \n14         NaN         NaN   \n15         NaN         NaN   \n\n   1= Sexual orientation/gender identity (e.g. \"gay\")   0= N/A  ...  \\\n0                                           Content_B           ...   \n1                                                 NaN           ...   \n2                                                 NaN           ...   \n3                                                 NaN           ...   \n4                                                 NaN           ...   \n5                                                 NaN           ...   \n6                                                 NaN           ...   \n7                                                 NaN           ...   \n8                                                 NaN           ...   \n9                                                 NaN           ...   \n10                                                NaN           ...   \n11                                                NaN           ...   \n12                                                NaN           ...   \n13                                                NaN           ...   \n14                                                NaN           ...   \n15                                                NaN           ...   \n\n    Unnamed: 41  1= Suicide 0= N/A Unnamed: 43  Unnamed: 44  \\\n0           NaN               OP_B         NaN          NaN   \n1           NaN                NaN         NaN          NaN   \n2           0.0                  0         NaN          0.0   \n3           0.0                  0         NaN          0.0   \n4           0.0                  0         NaN          0.0   \n5           0.0                  0         NaN          0.0   \n6           0.0                  0         NaN          0.0   \n7           0.0                  0         NaN          0.0   \n8           0.0                  0         NaN          0.0   \n9           0.0                  0         NaN          0.0   \n10          0.0                  0         NaN          0.0   \n11          0.0                  0         NaN          0.0   \n12          0.0                  0         NaN          0.0   \n13          0.0                  0         NaN          0.0   \n14          0.0                  0         NaN          0.0   \n15          0.0                  0         NaN          0.0   \n\n    1= Stress (or anxiety)   0= N/A Unnamed: 46  Unnamed: 47  \\\n0                              OP_C         NaN          NaN   \n1                               NaN         NaN          NaN   \n2                                 0         NaN          0.0   \n3                                 0         NaN          0.0   \n4                                 0         NaN          0.0   \n5                                 0         NaN          0.0   \n6                                 0         NaN          0.0   \n7                                 0         NaN          0.0   \n8                                 0         NaN          0.0   \n9                                 0         NaN          0.0   \n10                                0         NaN          0.0   \n11                                0         NaN          0.0   \n12                                0         NaN          0.0   \n13                                0         NaN          0.0   \n14                                0         NaN          0.0   \n15                                0         NaN          0.0   \n\n    1= Discrimination      0= N/A Unnamed: 49  Unnamed: 50  \n0                            OP_D         NaN          NaN  \n1                             NaN         NaN          NaN  \n2                               0         NaN          0.0  \n3                               0         NaN          0.0  \n4                               0         NaN          0.0  \n5                               0         NaN          0.0  \n6                               0         NaN          0.0  \n7                               0         NaN          0.0  \n8                               0         NaN          0.0  \n9                               0         NaN          0.0  \n10                              0         NaN          0.0  \n11                              0         NaN          0.0  \n12                              0         NaN          0.0  \n13                              0         NaN          0.0  \n14                              0         NaN          0.0  \n15                              0         NaN          0.0  \n\n[16 rows x 51 columns]",
      "text/html": "<div>\n<style scoped>\n    .dataframe tbody tr th:only-of-type {\n        vertical-align: middle;\n    }\n\n    .dataframe tbody tr th {\n        vertical-align: top;\n    }\n\n    .dataframe thead th {\n        text-align: right;\n    }\n</style>\n<table border=\"1\" class=\"dataframe\">\n  <thead>\n    <tr style=\"text-align: right;\">\n      <th></th>\n      <th>Unnamed: 0</th>\n      <th>Unnamed: 1</th>\n      <th>Unnamed: 2</th>\n      <th>Unnamed: 3</th>\n      <th>CB Comment: Whether comment overall was a CB comment or not (1= CB 0= No CB)</th>\n      <th>Content: The type of CB used in the comment</th>\n      <th>1= Sexual; but NOT sexual/gender identity (e.g. \"whore\")    0= N/A</th>\n      <th>Unnamed: 7</th>\n      <th>Unnamed: 8</th>\n      <th>1= Sexual orientation/gender identity (e.g. \"gay\")   0= N/A</th>\n      <th>...</th>\n      <th>Unnamed: 41</th>\n      <th>1= Suicide 0= N/A</th>\n      <th>Unnamed: 43</th>\n      <th>Unnamed: 44</th>\n      <th>1= Stress (or anxiety)   0= N/A</th>\n      <th>Unnamed: 46</th>\n      <th>Unnamed: 47</th>\n      <th>1= Discrimination      0= N/A</th>\n      <th>Unnamed: 49</th>\n      <th>Unnamed: 50</th>\n    </tr>\n  </thead>\n  <tbody>\n    <tr>\n      <th>0</th>\n      <td>witneycarson</td>\n      <td>NaN</td>\n      <td>Anyone see the Pepsi halftime show commercial ...</td>\n      <td>Media posted at 2014-01-27 03:59:56\\n\\n</td>\n      <td>CB_Comment</td>\n      <td>NaN</td>\n      <td>Content_A</td>\n      <td>NaN</td>\n      <td>NaN</td>\n      <td>Content_B</td>\n      <td>...</td>\n      <td>NaN</td>\n      <td>OP_B</td>\n      <td>NaN</td>\n      <td>NaN</td>\n      <td>OP_C</td>\n      <td>NaN</td>\n      <td>NaN</td>\n      <td>OP_D</td>\n      <td>NaN</td>\n      <td>NaN</td>\n    </tr>\n    <tr>\n      <th>1</th>\n      <td>Comment Number</td>\n      <td>Commenter Username</td>\n      <td>Comment</td>\n      <td>Comment Post Time</td>\n      <td>NaN</td>\n      <td>NaN</td>\n      <td>NaN</td>\n      <td>NaN</td>\n      <td>NaN</td>\n      <td>NaN</td>\n      <td>...</td>\n      <td>NaN</td>\n      <td>NaN</td>\n      <td>NaN</td>\n      <td>NaN</td>\n      <td>NaN</td>\n      <td>NaN</td>\n      <td>NaN</td>\n      <td>NaN</td>\n      <td>NaN</td>\n      <td>NaN</td>\n    </tr>\n    <tr>\n      <th>2</th>\n      <td>1</td>\n      <td>britterkritter</td>\n      <td>I seen you!</td>\n      <td>(created_at:2014-01-27 04:10:11)</td>\n      <td>0</td>\n      <td>NaN</td>\n      <td>NaN</td>\n      <td>NaN</td>\n      <td>NaN</td>\n      <td>NaN</td>\n      <td>...</td>\n      <td>0.0</td>\n      <td>0</td>\n      <td>NaN</td>\n      <td>0.0</td>\n      <td>0</td>\n      <td>NaN</td>\n      <td>0.0</td>\n      <td>0</td>\n      <td>NaN</td>\n      <td>0.0</td>\n    </tr>\n    <tr>\n      <th>3</th>\n      <td>2</td>\n      <td>caitlynirenie</td>\n      <td>Get it girl!!!</td>\n      <td>(created_at:2014-01-27 04:19:24)</td>\n      <td>0</td>\n      <td>NaN</td>\n      <td>NaN</td>\n      <td>NaN</td>\n      <td>NaN</td>\n      <td>NaN</td>\n      <td>...</td>\n      <td>0.0</td>\n      <td>0</td>\n      <td>NaN</td>\n      <td>0.0</td>\n      <td>0</td>\n      <td>NaN</td>\n      <td>0.0</td>\n      <td>0</td>\n      <td>NaN</td>\n      <td>0.0</td>\n    </tr>\n    <tr>\n      <th>4</th>\n      <td>3</td>\n      <td>alnsalzr</td>\n      <td>Loved it Wit</td>\n      <td>(created_at:2014-01-27 04:22:34)</td>\n      <td>0</td>\n      <td>NaN</td>\n      <td>NaN</td>\n      <td>NaN</td>\n      <td>NaN</td>\n      <td>NaN</td>\n      <td>...</td>\n      <td>0.0</td>\n      <td>0</td>\n      <td>NaN</td>\n      <td>0.0</td>\n      <td>0</td>\n      <td>NaN</td>\n      <td>0.0</td>\n      <td>0</td>\n      <td>NaN</td>\n      <td>0.0</td>\n    </tr>\n    <tr>\n      <th>5</th>\n      <td>4</td>\n      <td>aftonnoelle</td>\n      <td>We saw it.. Damn girl</td>\n      <td>(created_at:2014-01-27 04:54:38)</td>\n      <td>0</td>\n      <td>NaN</td>\n      <td>NaN</td>\n      <td>NaN</td>\n      <td>NaN</td>\n      <td>NaN</td>\n      <td>...</td>\n      <td>0.0</td>\n      <td>0</td>\n      <td>NaN</td>\n      <td>0.0</td>\n      <td>0</td>\n      <td>NaN</td>\n      <td>0.0</td>\n      <td>0</td>\n      <td>NaN</td>\n      <td>0.0</td>\n    </tr>\n    <tr>\n      <th>6</th>\n      <td>5</td>\n      <td>shashtay</td>\n      <td>_Å½Ã›Â_Å½â€šÂ so awesome!!</td>\n      <td>(created_at:2014-01-27 04:55:26)</td>\n      <td>0</td>\n      <td>NaN</td>\n      <td>NaN</td>\n      <td>NaN</td>\n      <td>NaN</td>\n      <td>NaN</td>\n      <td>...</td>\n      <td>0.0</td>\n      <td>0</td>\n      <td>NaN</td>\n      <td>0.0</td>\n      <td>0</td>\n      <td>NaN</td>\n      <td>0.0</td>\n      <td>0</td>\n      <td>NaN</td>\n      <td>0.0</td>\n    </tr>\n    <tr>\n      <th>7</th>\n      <td>6</td>\n      <td>darlahood7</td>\n      <td>Loved it!!!</td>\n      <td>(created_at:2014-01-27 04:56:47)</td>\n      <td>0</td>\n      <td>NaN</td>\n      <td>NaN</td>\n      <td>NaN</td>\n      <td>NaN</td>\n      <td>NaN</td>\n      <td>...</td>\n      <td>0.0</td>\n      <td>0</td>\n      <td>NaN</td>\n      <td>0.0</td>\n      <td>0</td>\n      <td>NaN</td>\n      <td>0.0</td>\n      <td>0</td>\n      <td>NaN</td>\n      <td>0.0</td>\n    </tr>\n    <tr>\n      <th>8</th>\n      <td>7</td>\n      <td>laceyleabell</td>\n      <td>You're the cutest little bad ass ever. :)</td>\n      <td>(created_at:2014-01-27 05:24:25)</td>\n      <td>0</td>\n      <td>NaN</td>\n      <td>NaN</td>\n      <td>NaN</td>\n      <td>NaN</td>\n      <td>NaN</td>\n      <td>...</td>\n      <td>0.0</td>\n      <td>0</td>\n      <td>NaN</td>\n      <td>0.0</td>\n      <td>0</td>\n      <td>NaN</td>\n      <td>0.0</td>\n      <td>0</td>\n      <td>NaN</td>\n      <td>0.0</td>\n    </tr>\n    <tr>\n      <th>9</th>\n      <td>8</td>\n      <td>vad_a</td>\n      <td>I haven't seen any of those dudes. I was watch...</td>\n      <td>(created_at:2014-01-27 05:25:43)</td>\n      <td>0</td>\n      <td>NaN</td>\n      <td></td>\n      <td>NaN</td>\n      <td>NaN</td>\n      <td>NaN</td>\n      <td>...</td>\n      <td>0.0</td>\n      <td>0</td>\n      <td>NaN</td>\n      <td>0.0</td>\n      <td>0</td>\n      <td>NaN</td>\n      <td>0.0</td>\n      <td>0</td>\n      <td>NaN</td>\n      <td>0.0</td>\n    </tr>\n    <tr>\n      <th>10</th>\n      <td>9</td>\n      <td>ranazaya</td>\n      <td>Amazing!!!! _Å½Ã›Â_Å½Ã›Â_Å½Ã›Â love you _Å½...</td>\n      <td>(created_at:2014-01-27 05:26:27)</td>\n      <td>0</td>\n      <td>NaN</td>\n      <td>NaN</td>\n      <td>NaN</td>\n      <td>NaN</td>\n      <td>NaN</td>\n      <td>...</td>\n      <td>0.0</td>\n      <td>0</td>\n      <td>NaN</td>\n      <td>0.0</td>\n      <td>0</td>\n      <td>NaN</td>\n      <td>0.0</td>\n      <td>0</td>\n      <td>NaN</td>\n      <td>0.0</td>\n    </tr>\n    <tr>\n      <th>11</th>\n      <td>10</td>\n      <td>kyleepickering</td>\n      <td>We saw you!!!</td>\n      <td>(created_at:2014-01-27 05:46:12)</td>\n      <td>0</td>\n      <td>NaN</td>\n      <td>NaN</td>\n      <td>NaN</td>\n      <td>NaN</td>\n      <td>NaN</td>\n      <td>...</td>\n      <td>0.0</td>\n      <td>0</td>\n      <td>NaN</td>\n      <td>0.0</td>\n      <td>0</td>\n      <td>NaN</td>\n      <td>0.0</td>\n      <td>0</td>\n      <td>NaN</td>\n      <td>0.0</td>\n    </tr>\n    <tr>\n      <th>12</th>\n      <td>11</td>\n      <td>reb2633</td>\n      <td>I thought they weren't allowed on the couch?!</td>\n      <td>(created_at:2014-01-27 14:22:18)</td>\n      <td>0</td>\n      <td>NaN</td>\n      <td>NaN</td>\n      <td>NaN</td>\n      <td>NaN</td>\n      <td>NaN</td>\n      <td>...</td>\n      <td>0.0</td>\n      <td>0</td>\n      <td>NaN</td>\n      <td>0.0</td>\n      <td>0</td>\n      <td>NaN</td>\n      <td>0.0</td>\n      <td>0</td>\n      <td>NaN</td>\n      <td>0.0</td>\n    </tr>\n    <tr>\n      <th>13</th>\n      <td>12</td>\n      <td>lexiluu1</td>\n      <td>I saw you!!</td>\n      <td>(created_at:2014-02-09 22:01:27)</td>\n      <td>0</td>\n      <td>NaN</td>\n      <td>NaN</td>\n      <td>NaN</td>\n      <td>NaN</td>\n      <td>NaN</td>\n      <td>...</td>\n      <td>0.0</td>\n      <td>0</td>\n      <td>NaN</td>\n      <td>0.0</td>\n      <td>0</td>\n      <td>NaN</td>\n      <td>0.0</td>\n      <td>0</td>\n      <td>NaN</td>\n      <td>0.0</td>\n    </tr>\n    <tr>\n      <th>14</th>\n      <td>13</td>\n      <td>zoxis07</td>\n      <td>_ÂÂ_Â_Â_ÂÂ±Â_ Â_ÂÂ±ÂÂ±_Ã‘ Â_ÂÂ±ÂÂ±...</td>\n      <td>(created_at:2014-03-28 21:33:39)</td>\n      <td>0</td>\n      <td>NaN</td>\n      <td>NaN</td>\n      <td>NaN</td>\n      <td>NaN</td>\n      <td>NaN</td>\n      <td>...</td>\n      <td>0.0</td>\n      <td>0</td>\n      <td>NaN</td>\n      <td>0.0</td>\n      <td>0</td>\n      <td>NaN</td>\n      <td>0.0</td>\n      <td>0</td>\n      <td>NaN</td>\n      <td>0.0</td>\n    </tr>\n    <tr>\n      <th>15</th>\n      <td>14</td>\n      <td>nedved_</td>\n      <td>Â__Ã‘ Â_Â_ÂÂ±Â_ (:</td>\n      <td>(created_at:2014-10-07 02:07:48)</td>\n      <td>0</td>\n      <td>NaN</td>\n      <td>NaN</td>\n      <td>NaN</td>\n      <td>NaN</td>\n      <td>NaN</td>\n      <td>...</td>\n      <td>0.0</td>\n      <td>0</td>\n      <td>NaN</td>\n      <td>0.0</td>\n      <td>0</td>\n      <td>NaN</td>\n      <td>0.0</td>\n      <td>0</td>\n      <td>NaN</td>\n      <td>0.0</td>\n    </tr>\n  </tbody>\n</table>\n<p>16 rows × 51 columns</p>\n</div>"
     },
     "execution_count": 9,
     "metadata": {},
     "output_type": "execute_result"
    }
   ],
   "source": [
    "pd.read_excel(t_xl_file, t_xl_file.sheet_names[1])"
   ],
   "metadata": {
    "collapsed": false
   }
  },
  {
   "cell_type": "markdown",
   "source": [
    "## Get all the excel sessions\n",
    "Each file represents a set of sessions\n",
    "Each Session is labeled bullying or non bullying in the sheet name\n",
    "Following is the planned representation\n",
    "```\n",
    "{\n",
    "    session:       str\n",
    "    poster:        str\n",
    "    text:          str\n",
    "    session_label: int\n",
    "    comments:\n",
    "        {\n",
    "            poster:        str\n",
    "            directed_to:   str\n",
    "            text:          str\n",
    "            comment_label: int\n",
    "        }\n",
    "}\n",
    "```"
   ],
   "metadata": {
    "collapsed": false
   }
  },
  {
   "cell_type": "code",
   "execution_count": 10,
   "outputs": [],
   "source": [
    "xl_files = [pd.ExcelFile(x) for x in xl_files]"
   ],
   "metadata": {
    "collapsed": false
   }
  },
  {
   "cell_type": "code",
   "execution_count": 11,
   "outputs": [],
   "source": [
    "def get_session_info(excel_file: pd.ExcelFile, sheet_name: str):\n",
    "    str_label = sheet_name.split('-')[1].strip()\n",
    "    int_label = 0 if str_label.lower() == 'no' else 1\n",
    "\n",
    "    sheet_content = pd.read_excel(excel_file, sheet_name)\n",
    "    columns = sheet_content.columns\n",
    "    poster_name = sheet_content[sheet_content.columns[0]][0]\n",
    "    poster_name = poster_name.strip()\n",
    "    poster_comment = sheet_content[sheet_content.columns[2]][0]\n",
    "\n",
    "    # parse all the comments\n",
    "    comment_posters= sheet_content[2:][columns[1]].tolist()\n",
    "    comment_texts  = sheet_content[2:][columns[2]].tolist()\n",
    "    comment_labels = sheet_content[2:][columns[4]].tolist()\n",
    "    directions   = [list(sheet_content[2:][columns[x]].to_list()) for x in [35, 36, 37]]\n",
    "    directions = list(zip(*directions))\n",
    "    comments = []\n",
    "    # create a structure from the extracted data\n",
    "    for i in range(len(comment_posters)):\n",
    "        # print(directions[i])\n",
    "        try:\n",
    "            comments.append({\n",
    "                'user': comment_posters[i].strip(),\n",
    "                'to': [x.strip().replace('@', '') if not pd.isna(x) and type(x) == str else '' for x in directions[i]],\n",
    "                'content': comment_texts[i].strip(),\n",
    "                'label': int(comment_labels[i])\n",
    "            })\n",
    "        except Exception as e:\n",
    "            print('=' * 10)\n",
    "            print(e)\n",
    "            print('=' * 10)\n",
    "            print(comment_posters[i])\n",
    "            print(directions[i])\n",
    "            print(comment_texts[i])\n",
    "            print(comment_labels[i])\n",
    "\n",
    "    session = {\n",
    "        'session': sheet_name,\n",
    "        'user': poster_name,\n",
    "        'content': poster_comment.strip(),\n",
    "        'label': int_label,\n",
    "        'comments': comments\n",
    "    }\n",
    "\n",
    "    return session\n"
   ],
   "metadata": {
    "collapsed": false
   }
  },
  {
   "cell_type": "code",
   "execution_count": 12,
   "outputs": [
    {
     "name": "stdout",
     "output_type": "stream",
     "text": [
      "Doing instagram_100_sessions/Compiled and Totaled Sessions 2020/CB IG Compiled Coding Set 1 - 2020 (Revised 2.0).xlsx\n",
      "Doing sheet 1 Overall CB - Yes\n",
      "Doing sheet 2 Overall CB - No\n",
      "Doing sheet 3 Overall CB - No\n",
      "Doing sheet 4 Overall CB - No\n",
      "Doing sheet 5 Overall CB - No\n",
      "==========\n",
      "cannot convert float NaN to integer\n",
      "==========\n",
      "louiscabb\n",
      "(nan, nan, nan)\n",
      "So would it take a additional 7days to arrive or how much? \n",
      "nan\n",
      "Doing sheet 6 Overall CB - No\n",
      "Doing sheet 7 Overall CB - No\n",
      "==========\n",
      "cannot convert float NaN to integer\n",
      "==========\n",
      "gianna_devincenzo\n",
      "(nan, nan, nan)\n",
      "@_brittany_keyes_ \n",
      "nan\n",
      "Doing sheet 8 Overall CB - Yes\n",
      "Doing sheet 9 Overall CB - No\n",
      "Doing sheet 10 Overall CB - No\n",
      "Doing sheet 11 Overall CB - No\n",
      "Doing sheet 12 Overall CB - No\n",
      "Doing sheet 13 Overall CB - Yes\n",
      "Doing sheet 14 Overall CB - No\n",
      "Doing sheet 15 Overall CB - No\n",
      "Doing sheet 16 Overall CB - No\n",
      "==========\n",
      "'float' object has no attribute 'strip'\n",
      "==========\n",
      "elyse_turney\n",
      "(nan, nan, nan)\n",
      "nan\n",
      "0\n",
      "Doing sheet 17 Overall CB - Yes\n",
      "Doing sheet 18 Overall CB - Yes\n",
      "Doing sheet 19 Overall CB - No\n",
      "Doing sheet 20 Overall CB - Yes\n",
      "Doing instagram_100_sessions/Compiled and Totaled Sessions 2020/CB IG Compiled Coding Set 2 - 2020 (Revised 2.0).xlsx\n",
      "Doing sheet 1 Overall CB - No\n",
      "Doing sheet 2 Overall CB - No\n",
      "Doing sheet 3 Overall CB - No\n",
      "==========\n",
      "cannot convert float NaN to integer\n",
      "==========\n",
      "b.beh_\n",
      "(nan, nan, nan)\n",
      "@l.a.ris MDSS HAAAYES QUUUUE CAARA MDS VC E MUITO FOOFOFOF \n",
      "nan\n",
      "==========\n",
      "'float' object has no attribute 'strip'\n",
      "==========\n",
      "jordantolin\n",
      "(nan, nan, nan)\n",
      "nan\n",
      "0\n",
      "==========\n",
      "'int' object has no attribute 'strip'\n",
      "==========\n",
      "elviralarssons\n",
      "(nan, nan, nan)\n",
      "2000\n",
      "0\n",
      "Doing sheet 4 Overall CB - No\n",
      "Doing sheet 5 Overall CB - No\n",
      "Doing sheet 6 Overall CB - No\n",
      "Doing sheet 7 Overall CB - No\n",
      "Doing sheet 8 Overall CB - No\n",
      "Doing sheet 9 Overall CB - No\n",
      "Doing sheet 10 Overall CB - No\n",
      "Doing sheet 11 Overall CB - Yes\n",
      "==========\n",
      "cannot convert float NaN to integer\n",
      "==========\n",
      "jazzzzycat\n",
      "('jakekeyser', 'returndat13  ', 'returndat13  ')\n",
      "No he is an idiot. He has horrible grammar. \n",
      "nan\n",
      "Doing sheet 12 Overall CB - Yes\n",
      "Doing sheet 13 Overall CB - No\n",
      "Doing sheet 14 Overall CB - No\n",
      "==========\n",
      "'float' object has no attribute 'strip'\n",
      "==========\n",
      "nan\n",
      "(nan, nan, nan)\n",
      "nan\n",
      "nan\n",
      "==========\n",
      "'float' object has no attribute 'strip'\n",
      "==========\n",
      "nan\n",
      "(nan, nan, nan)\n",
      "nan\n",
      "nan\n",
      "==========\n",
      "'float' object has no attribute 'strip'\n",
      "==========\n",
      "nan\n",
      "(nan, nan, nan)\n",
      "nan\n",
      "nan\n",
      "==========\n",
      "'float' object has no attribute 'strip'\n",
      "==========\n",
      "nan\n",
      "(nan, nan, nan)\n",
      "nan\n",
      "nan\n",
      "==========\n",
      "'float' object has no attribute 'strip'\n",
      "==========\n",
      "nan\n",
      "(nan, nan, nan)\n",
      "nan\n",
      "nan\n",
      "==========\n",
      "'float' object has no attribute 'strip'\n",
      "==========\n",
      "nan\n",
      "(nan, nan, nan)\n",
      "nan\n",
      "nan\n",
      "==========\n",
      "'float' object has no attribute 'strip'\n",
      "==========\n",
      "nan\n",
      "(nan, nan, nan)\n",
      "nan\n",
      "nan\n",
      "==========\n",
      "'float' object has no attribute 'strip'\n",
      "==========\n",
      "nan\n",
      "(nan, nan, nan)\n",
      "nan\n",
      "nan\n",
      "==========\n",
      "'float' object has no attribute 'strip'\n",
      "==========\n",
      "nan\n",
      "(nan, nan, nan)\n",
      "nan\n",
      "nan\n",
      "==========\n",
      "'float' object has no attribute 'strip'\n",
      "==========\n",
      "nan\n",
      "(nan, nan, nan)\n",
      "nan\n",
      "nan\n",
      "==========\n",
      "'float' object has no attribute 'strip'\n",
      "==========\n",
      "nan\n",
      "(nan, nan, nan)\n",
      "nan\n",
      "nan\n",
      "==========\n",
      "'float' object has no attribute 'strip'\n",
      "==========\n",
      "nan\n",
      "(nan, nan, nan)\n",
      "nan\n",
      "nan\n",
      "==========\n",
      "'float' object has no attribute 'strip'\n",
      "==========\n",
      "nan\n",
      "(nan, nan, nan)\n",
      "nan\n",
      "nan\n",
      "==========\n",
      "'float' object has no attribute 'strip'\n",
      "==========\n",
      "nan\n",
      "(nan, nan, nan)\n",
      "nan\n",
      "nan\n",
      "==========\n",
      "'float' object has no attribute 'strip'\n",
      "==========\n",
      "nan\n",
      "(nan, nan, nan)\n",
      "nan\n",
      "nan\n",
      "Doing sheet 15 Overall CB - Yes\n",
      "==========\n",
      "cannot convert float NaN to integer\n",
      "==========\n",
      "blkbarbieswagg\n",
      "(nan, nan, nan)\n",
      "*LIVE \n",
      "nan\n",
      "Doing sheet 16 Overall CB - No\n",
      "Doing sheet 17 Overall CB - Yes\n",
      "==========\n",
      "cannot convert float NaN to integer\n",
      "==========\n",
      "lion5000\n",
      "(nan, nan, nan)\n",
      "Soft ass kirk \n",
      "nan\n",
      "==========\n",
      "cannot convert float NaN to integer\n",
      "==========\n",
      "cap_chick\n",
      "(nan, nan, nan)\n",
      "@msnici _†¥__†¥Š_†_¥ï_†¥ \n",
      "nan\n",
      "Doing sheet 18 Overall CB - Yes\n",
      "Doing sheet 19 Overall CB - No\n",
      "Doing sheet 20 Overall CB - Yes\n",
      "Doing instagram_100_sessions/Compiled and Totaled Sessions 2020/CB IG Compiled Coding Set 5 - 2020 (Revised 2.0).xlsx\n",
      "Doing sheet 1 Overall CB - Yes\n",
      "Doing sheet 2 Overall CB - No\n",
      "==========\n",
      "'int' object has no attribute 'strip'\n",
      "==========\n",
      "xalexaxx_13\n",
      "(nan, nan, nan)\n",
      "44\n",
      "0\n",
      "Doing sheet 3 Overall CB - No\n",
      "Doing sheet 4 Overall CB - No\n",
      "Doing sheet 5 Overall CB - No\n",
      "==========\n",
      "'float' object has no attribute 'strip'\n",
      "==========\n",
      "nan\n",
      "(nan, nan, nan)\n",
      "nan\n",
      "nan\n",
      "Doing sheet 6 Overall CB - No\n",
      "Doing sheet 7 Overall CB - No\n",
      "Doing sheet 8 Overall CB - No\n",
      "Doing sheet 9 Overall CB - No\n",
      "Doing sheet 10 Overall CB - No\n",
      "Doing sheet 11 Overall CB - No\n",
      "Doing sheet 12 Overall CB - Yes\n",
      "Doing sheet 13 Overall CB - Yes\n",
      "Doing sheet 14 Overall CB - Yes\n",
      "Doing sheet 15 Overall CB - Yes\n",
      "==========\n",
      "'int' object has no attribute 'strip'\n",
      "==========\n",
      "tbhdianaa\n",
      "(nan, nan, nan)\n",
      "1\n",
      "0\n",
      "Doing sheet 16 Overall CB - Yes\n",
      "Doing sheet 17 Overall CB - Yes\n",
      "Doing sheet 18 Overall CB - Yes\n",
      "Doing sheet 19 Overall CB - Yes\n",
      "Doing sheet 20 Overall CB - No\n",
      "Doing instagram_100_sessions/Compiled and Totaled Sessions 2020/CB IG Compiled Coding Set 3 - 2020 (Revised 2.0).xlsx\n",
      "Doing sheet 1 Overall CB - Yes\n",
      "==========\n",
      "'float' object has no attribute 'strip'\n",
      "==========\n",
      "nan\n",
      "(nan, nan, nan)\n",
      "nan\n",
      "3\n",
      "Doing sheet 2 Overall CB - Yes\n",
      "==========\n",
      "'float' object has no attribute 'strip'\n",
      "==========\n",
      "nan\n",
      "(nan, nan, nan)\n",
      "nan\n",
      "6\n",
      "==========\n",
      "'float' object has no attribute 'strip'\n",
      "==========\n",
      "nan\n",
      "(nan, nan, nan)\n",
      "nan\n",
      "nan\n",
      "Doing sheet 3 Overall CB - Yes\n",
      "==========\n",
      "cannot convert float NaN to integer\n",
      "==========\n",
      "disclaimerboy\n",
      "(nan, 0, nan)\n",
      "Bully Ray it's the perfect heel. He plays it so well. \n",
      "nan\n",
      "==========\n",
      "'float' object has no attribute 'strip'\n",
      "==========\n",
      "nan\n",
      "(nan, nan, nan)\n",
      "nan\n",
      "13\n",
      "Doing sheet 4 Overall CB - Yes\n",
      "==========\n",
      "'float' object has no attribute 'strip'\n",
      "==========\n",
      "nan\n",
      "(nan, nan, nan)\n",
      "nan\n",
      "73\n",
      "==========\n",
      "'float' object has no attribute 'strip'\n",
      "==========\n",
      "nan\n",
      "(nan, nan, nan)\n",
      "nan\n",
      "nan\n",
      "Doing sheet 5 Overall CB - No\n",
      "==========\n",
      "'float' object has no attribute 'strip'\n",
      "==========\n",
      "nan\n",
      "(nan, nan, nan)\n",
      "nan\n",
      "63\n",
      "Doing sheet 6 Overall CB - No\n",
      "==========\n",
      "'float' object has no attribute 'strip'\n",
      "==========\n",
      "nan\n",
      "(nan, nan, nan)\n",
      "nan\n",
      "0\n",
      "Doing sheet 7 Overall CB - Yes\n",
      "==========\n",
      "'float' object has no attribute 'strip'\n",
      "==========\n",
      "nan\n",
      "(nan, nan, nan)\n",
      "nan\n",
      "9\n",
      "Doing sheet 8 Overall CB - Yes\n",
      "==========\n",
      "'float' object has no attribute 'strip'\n",
      "==========\n",
      "nan\n",
      "(nan, nan, nan)\n",
      "nan\n",
      "56\n",
      "==========\n",
      "'float' object has no attribute 'strip'\n",
      "==========\n",
      "nan\n",
      "(nan, nan, nan)\n",
      "nan\n",
      "nan\n",
      "Doing sheet 9 Overall CB - Yes\n",
      "==========\n",
      "'float' object has no attribute 'strip'\n",
      "==========\n",
      "nan\n",
      "(nan, nan, nan)\n",
      "nan\n",
      "23\n",
      "==========\n",
      "'float' object has no attribute 'strip'\n",
      "==========\n",
      "nan\n",
      "(nan, nan, nan)\n",
      "nan\n",
      "nan\n",
      "Doing sheet 10 Overall CB - No\n",
      "==========\n",
      "'float' object has no attribute 'strip'\n",
      "==========\n",
      "nan\n",
      "(nan, nan, nan)\n",
      "nan\n",
      "1\n",
      "Doing sheet 11 Overall CB - No\n",
      "Doing sheet 12 Overall CB - No\n",
      "Doing sheet 13 Overall CB - No\n",
      "==========\n",
      "'float' object has no attribute 'strip'\n",
      "==========\n",
      "nan\n",
      "(nan, nan, nan)\n",
      "nan\n",
      "0\n",
      "Doing sheet 14 Overall CB - No\n",
      "Doing sheet 15 Overall CB - No\n",
      "Doing sheet 16 Overall CB - No\n",
      "Doing sheet 17 Overall CB - No\n",
      "==========\n",
      "cannot convert float NaN to integer\n",
      "==========\n",
      "winabob\n",
      "(nan, nan, nan)\n",
      "Both \n",
      "nan\n",
      "Doing sheet 18 Overall CB - No\n",
      "Doing sheet 19 Overall CB - Yes\n",
      "Doing sheet 20 Overall CB - No\n",
      "==========\n",
      "cannot convert float NaN to integer\n",
      "==========\n",
      "bootruetube\n",
      "(nan, nan, nan)\n",
      "WWE Battlepack 14 Randy Orton and Mason Ryan \n",
      "nan\n",
      "==========\n",
      "'float' object has no attribute 'strip'\n",
      "==========\n",
      "nan\n",
      "(nan, nan, nan)\n",
      "nan\n",
      "0\n",
      "Doing instagram_100_sessions/Compiled and Totaled Sessions 2020/CB IG Compiled Coding Set 4 - 2020 (Revised 2.0).xlsx\n",
      "Doing sheet 1 Overall CB - No\n",
      "Doing sheet 2 Overall CB - No\n",
      "Doing sheet 3 Overall CB - No\n",
      "Doing sheet 4 Overall CB - No\n",
      "Doing sheet 5 Overall CB - No\n",
      "Doing sheet 6 Overall CB - Yes\n",
      "Doing sheet 7 Overall CB - No\n",
      "Doing sheet 8 Overall CB - No\n",
      "Doing sheet 9 Overall CB - No\n",
      "Doing sheet 10 Overall CB - No\n",
      "Doing sheet 11 Overall CB - Yes\n",
      "Doing sheet 12 Overall CB - Yes\n",
      "Doing sheet 13 Overall CB - Yes\n",
      "Doing sheet 14 Overall CB - Yes\n",
      "Doing sheet 15 Overall CB - Yes\n",
      "Doing sheet 16 Overall CB - Yes\n",
      "Doing sheet 17 Overall CB - Yes\n",
      "Doing sheet 18 Overall CB - Yes\n",
      "Doing sheet 19 Overall CB - Yes\n",
      "Doing sheet 20 Overall CB - Yes\n"
     ]
    }
   ],
   "source": [
    "# Get the session information for all the sessions\n",
    "sessions = []\n",
    "for file_i, xl_file in enumerate(xl_files):\n",
    "    print(f'Doing {xl_file_names[file_i]}')\n",
    "    for sheet in xl_file.sheet_names:\n",
    "        print(f'Doing sheet {sheet}')\n",
    "        session_info = get_session_info(xl_file, sheet)\n",
    "        sessions.append(session_info)"
   ],
   "metadata": {
    "collapsed": false
   }
  },
  {
   "cell_type": "code",
   "execution_count": 13,
   "outputs": [
    {
     "data": {
      "text/plain": "100"
     },
     "execution_count": 13,
     "metadata": {},
     "output_type": "execute_result"
    }
   ],
   "source": [
    "len(sessions)"
   ],
   "metadata": {
    "collapsed": false
   }
  },
  {
   "cell_type": "markdown",
   "source": [
    "## Create a graph from the sessions"
   ],
   "metadata": {
    "collapsed": false
   }
  },
  {
   "cell_type": "code",
   "execution_count": 14,
   "outputs": [],
   "source": [
    "# get the set of unique users\n",
    "users = []\n",
    "\n",
    "for session in sessions:\n",
    "    users.append(session['user'])\n",
    "    users.extend([x['user'] for x in session['comments']])\n",
    "    # Also add the people mentioned\n",
    "    users.extend([y for x in session['comments'] for y in x['to']])\n"
   ],
   "metadata": {
    "collapsed": false
   }
  },
  {
   "cell_type": "code",
   "execution_count": 15,
   "outputs": [],
   "source": [
    "users = list(set(users))"
   ],
   "metadata": {
    "collapsed": false
   }
  },
  {
   "cell_type": "code",
   "execution_count": 16,
   "outputs": [
    {
     "name": "stdout",
     "output_type": "stream",
     "text": [
      "{'user': 'followthat', 'to': ['', 'blkbarbieswagg', 'blkbarbieswagg'], 'content': \"You are a bad bitch not a queen ..don't confuse that shit..\", 'label': 3}\n"
     ]
    }
   ],
   "source": [
    "user_bully_dict = defaultdict(lambda: {0: 0, 1: 0})\n",
    "# For each user judge whether they were involved in bullying or not\n",
    "for session in sessions:\n",
    "    for comment in session['comments']:\n",
    "        try:\n",
    "            user = comment['user']\n",
    "            label = comment['label']\n",
    "            user_bully_dict[user][label] += 1\n",
    "        except Exception as e:\n",
    "            print(comment)\n",
    "\n",
    "\n"
   ],
   "metadata": {
    "collapsed": false
   }
  },
  {
   "cell_type": "code",
   "execution_count": 17,
   "outputs": [],
   "source": [
    "user_bully_perc = {}\n",
    "for k, v in user_bully_dict.items():\n",
    "    if v[0] + v[1] == 0:\n",
    "        perc = 0\n",
    "    else:\n",
    "        perc = v[1]/(v[0] + v[1])\n",
    "\n",
    "    user_bully_perc[k] = perc"
   ],
   "metadata": {
    "collapsed": false
   }
  },
  {
   "cell_type": "code",
   "execution_count": 18,
   "outputs": [],
   "source": [
    "bullies = [k for k, v in user_bully_perc.items() if v>0]\n",
    "nonbullies = [k for k, v in user_bully_perc.items() if v == 0]\n"
   ],
   "metadata": {
    "collapsed": false
   }
  },
  {
   "cell_type": "code",
   "execution_count": 19,
   "outputs": [
    {
     "data": {
      "text/plain": "(587, 5927)"
     },
     "execution_count": 19,
     "metadata": {},
     "output_type": "execute_result"
    }
   ],
   "source": [
    "len(bullies), len(nonbullies)"
   ],
   "metadata": {
    "collapsed": false
   }
  },
  {
   "cell_type": "markdown",
   "source": [
    "### Get the edges from the sessions"
   ],
   "metadata": {
    "collapsed": false
   }
  },
  {
   "cell_type": "code",
   "execution_count": 20,
   "outputs": [],
   "source": [
    "user_to_id = {}\n",
    "id_to_user = {}\n",
    "for i, user in enumerate(users):\n",
    "    user_to_id[user] = i\n",
    "    id_to_user[i] = user\n"
   ],
   "metadata": {
    "collapsed": false
   }
  },
  {
   "cell_type": "code",
   "execution_count": 21,
   "outputs": [
    {
     "name": "stderr",
     "output_type": "stream",
     "text": [
      "/tmp/ipykernel_2996676/857960562.py:8: FutureWarning: Unlike other reduction functions (e.g. `skew`, `kurtosis`), the default behavior of `mode` typically preserves the axis it acts along. In SciPy 1.11.0, this behavior will change: the default value of `keepdims` will become False, the `axis` over which the statistic is taken will be eliminated, and the value None will no longer be accepted. Set `keepdims` to True or False to avoid this warning.\n",
      "  e_to = st.mode(to_mapped).mode.item()\n"
     ]
    }
   ],
   "source": [
    "edges = []\n",
    "for session in sessions:\n",
    "    for comment in session['comments']:\n",
    "        try:\n",
    "            to_mapped = [user_to_id[x] for x in comment['to'] if x != '']\n",
    "            if len(to_mapped) == 0:\n",
    "                continue\n",
    "            e_to = st.mode(to_mapped).mode.item()\n",
    "            e_from = user_to_id[comment['user']]\n",
    "            edges.append((e_from, e_to))\n",
    "        except Exception as e:\n",
    "            print(e)\n",
    "            print(to_mapped)\n",
    "\n"
   ],
   "metadata": {
    "collapsed": false
   }
  },
  {
   "cell_type": "code",
   "execution_count": 22,
   "outputs": [
    {
     "data": {
      "text/plain": "1869"
     },
     "execution_count": 22,
     "metadata": {},
     "output_type": "execute_result"
    }
   ],
   "source": [
    "len(edges)"
   ],
   "metadata": {
    "collapsed": false
   }
  },
  {
   "cell_type": "code",
   "execution_count": 23,
   "outputs": [],
   "source": [
    "G = nx.Graph()"
   ],
   "metadata": {
    "collapsed": false
   }
  },
  {
   "cell_type": "code",
   "execution_count": 24,
   "outputs": [],
   "source": [
    "G.add_nodes_from(list(id_to_user.keys()))\n",
    "G.add_edges_from(edges)"
   ],
   "metadata": {
    "collapsed": false
   }
  },
  {
   "cell_type": "code",
   "execution_count": 34,
   "outputs": [
    {
     "data": {
      "text/plain": "(587, 5927, 6920)"
     },
     "execution_count": 34,
     "metadata": {},
     "output_type": "execute_result"
    }
   ],
   "source": [
    "len(bullies), len(nonbullies), len(users)"
   ],
   "metadata": {
    "collapsed": false
   }
  },
  {
   "cell_type": "code",
   "execution_count": 42,
   "outputs": [],
   "source": [
    "lcc = reduce(lambda a, b: b if len(b) > len(a) else a, nx.connected_components(G))"
   ],
   "metadata": {
    "collapsed": false
   }
  },
  {
   "cell_type": "code",
   "execution_count": 43,
   "outputs": [],
   "source": [
    "G = G.subgraph(lcc)"
   ],
   "metadata": {
    "collapsed": false
   }
  },
  {
   "cell_type": "code",
   "execution_count": 49,
   "outputs": [
    {
     "name": "stderr",
     "output_type": "stream",
     "text": [
      "100%|██████████| 2000/2000 [00:03<00:00, 564.66it/s]"
     ]
    },
    {
     "name": "stdout",
     "output_type": "stream",
     "text": [
      "BarnesHut Approximation  took  1.39  seconds\n",
      "Repulsion forces  took  1.78  seconds\n",
      "Gravitational forces  took  0.03  seconds\n",
      "Attraction forces  took  0.01  seconds\n",
      "AdjustSpeedAndApplyForces step  took  0.17  seconds\n"
     ]
    },
    {
     "name": "stderr",
     "output_type": "stream",
     "text": [
      "\n"
     ]
    }
   ],
   "source": [
    "pos = forceatlas2.forceatlas2_networkx_layout(G, pos=None, iterations=2000)"
   ],
   "metadata": {
    "collapsed": false
   }
  },
  {
   "cell_type": "code",
   "execution_count": 28,
   "outputs": [],
   "source": [
    "bullies_idx = [user_to_id[x] for x in bullies]\n",
    "nonbullies_idx = [user_to_id[x] for x in nonbullies]"
   ],
   "metadata": {
    "collapsed": false
   }
  },
  {
   "cell_type": "code",
   "execution_count": 53,
   "outputs": [],
   "source": [
    "bullies_idx = [x for x in bullies_idx if x in G.nodes]\n",
    "nonbullies_idx = [x for x in nonbullies_idx if x in G.nodes]"
   ],
   "metadata": {
    "collapsed": false
   }
  },
  {
   "cell_type": "code",
   "execution_count": 54,
   "outputs": [
    {
     "data": {
      "text/plain": "<Figure size 432x288 with 0 Axes>"
     },
     "metadata": {},
     "output_type": "display_data"
    }
   ],
   "source": [
    "plt.clf()"
   ],
   "metadata": {
    "collapsed": false
   }
  },
  {
   "cell_type": "code",
   "execution_count": 56,
   "outputs": [
    {
     "data": {
      "text/plain": "<Figure size 432x288 with 1 Axes>",
      "image/png": "[encoded data removed]"
     },
     "metadata": {},
     "output_type": "display_data"
    }
   ],
   "source": [
    "nx.draw_networkx_nodes(G, pos, nodelist=bullies_idx, node_color='#ff0000', node_size=3)\n",
    "nx.draw_networkx_nodes(G, pos, nodelist=nonbullies_idx, node_color='#0000ff', node_size=3)\n",
    "nx.draw_networkx_edges(G, pos)\n",
    "plt.savefig('fig.svg')"
   ],
   "metadata": {
    "collapsed": false
   }
  },
  {
   "cell_type": "code",
   "execution_count": 26,
   "outputs": [],
   "source": [
    "t_sheet = pd.read_excel(xl_files[0])"
   ],
   "metadata": {
    "collapsed": false
   }
  },
  {
   "cell_type": "code",
   "execution_count": 32,
   "outputs": [
    {
     "data": {
      "text/plain": "'gosh we love these five idiots so much __Â\\x8f for me, they have seriously turned my life around and I am so thankful for that x ~Zhanna__Ã”\"'"
     },
     "execution_count": 32,
     "metadata": {},
     "output_type": "execute_result"
    }
   ],
   "source": [
    "t_sheet[t_sheet.columns[2]][0]"
   ],
   "metadata": {
    "collapsed": false
   }
  },
  {
   "cell_type": "code",
   "execution_count": 62,
   "outputs": [
    {
     "data": {
      "text/plain": "['lynnseyerinalexandra',\n 'its_paynefull',\n 'maria.azpiri',\n 'myabvb',\n 'a.k.watkins',\n 'emilymcloone',\n 'liz.crockett',\n 'emilymorgan15',\n 'signehugger',\n 'niazki.lam',\n '69with_harryx',\n '69with_harryx',\n 'supaaaabbyy',\n 'cliffordslittlesecret',\n 'boobguyniall',\n 'eilisa.halpinbarnett',\n 'cliffordslittlesecret',\n 'cliffordslittlesecret',\n 'emilyjbenson',\n 'chiara_311',\n 'asnatebedi',\n '_go_._away_',\n 'dgillett18',\n 'c.a.t.h.e.r.i.n.e',\n 'just_luke_pics',\n 'niallersparadise',\n 'm.colantuono',\n 'allison.ruth',\n '_helenhorton',\n 'carolyn_salvatelli',\n 'maggie.gleeson',\n 'bellaaarinaaa',\n 'amandaer99',\n 'horuptionx',\n 'miaiversenhuus',\n 'beamiller666',\n 'danamelisax',\n 'ermstyles',\n 'fancytomlinson',\n 'itsmorgii',\n 'thehoranteam',\n '_malisaurus_',\n 'ptv.sammiee',\n 'josiemarieking',\n 'lauren_brady0405',\n '_emilyhost_',\n 'maria.papas',\n 'rexghxn',\n '_cassidilla',\n 'sarahprovo4',\n 'erin_epic6',\n 'camryyn_',\n 'mon_mon_96',\n 'allyrubens',\n 'morgannberry_15',\n 'allison.byers',\n 'sakandra212',\n 'kara.torres.welch',\n 'brittney_nicole263',\n 'macjohnson8',\n 'kara.torres.welch',\n 'brittney_nicole263',\n 'camycookie33',\n 'sigh.kylie',\n 'smhnv',\n 'ayeimsarah',\n 'whatever.1d',\n 'larrysfighters',\n 'w0aharii',\n 'the_irish_1_tho',\n 'xxjazimehxx',\n 'dedicated_to_1d_69',\n 'ysminnn_',\n 'elliegracecurven',\n 'beydriana',\n 'maggieweitzel',\n 'kyraaaaaa_slater',\n 'emilia99_',\n 'dgillett18',\n 'kyleesharai',\n 'dreams.at.work',\n 'vivianeillen',\n 'seyoung.leee',\n 'icarlyxoxo',\n 'morgan_pollak',\n 'icarlyxoxo',\n 'nell_noell_10',\n 'aisling_coates']"
     },
     "execution_count": 62,
     "metadata": {},
     "output_type": "execute_result"
    }
   ],
   "source": [
    "t_sheet[2:][t_sheet.columns[1]].tolist()"
   ],
   "metadata": {
    "collapsed": false
   }
  },
  {
   "cell_type": "code",
   "execution_count": 116,
   "outputs": [
    {
     "data": {
      "text/plain": "{'session': '1 Overall CB - Yes',\n 'user': 'maliksbby',\n 'content': 'gosh we love these five idiots so much __Â\\x8f for me, they have seriously turned my life around and I am so thankful for that x ~Zhanna__Ã”\"',\n 'label': 1,\n 'comments': [{'user': 'lynnseyerinalexandra',\n   'to': ['', '', ''],\n   'content': 'Zaaaayn',\n   'label': 0},\n  {'user': 'its_paynefull',\n   'to': ['', '', ''],\n   'content': 'Larry',\n   'label': 0},\n  {'user': 'maria.azpiri',\n   'to': ['', '', ''],\n   'content': 'Niall_Å½Ã›_',\n   'label': 0},\n  {'user': 'myabvb',\n   'to': ['', '', ''],\n   'content': 'How do u get a gif? I cant aave them to my phone',\n   'label': 0},\n  {'user': 'a.k.watkins',\n   'to': ['', '', ''],\n   'content': 'Larry, Zayn being sexy, and Niall and Liam doing something stupid in the back',\n   'label': 0},\n  {'user': 'emilymcloone',\n   'to': ['', '', ''],\n   'content': '@sarahhlizzie _Å½Ã›__Å½â€šÂ´',\n   'label': 0},\n  {'user': 'liz.crockett',\n   'to': ['', '', ''],\n   'content': '@a_magnifecent_cheesecake',\n   'label': 0},\n  {'user': 'emilymorgan15',\n   'to': ['', '', ''],\n   'content': '@kaylaaagonzales pretty much.',\n   'label': 0},\n  {'user': 'signehugger',\n   'to': ['', '', ''],\n   'content': '@wellhellocurly a to the men',\n   'label': 0},\n  {'user': 'niazki.lam',\n   'to': ['', '', ''],\n   'content': 'larry <3',\n   'label': 0},\n  {'user': '69with_harryx',\n   'to': ['', '', ''],\n   'content': 'I just was looking at lary',\n   'label': 0},\n  {'user': '69with_harryx',\n   'to': ['', '', ''],\n   'content': 'Larry',\n   'label': 0},\n  {'user': 'supaaaabbyy',\n   'to': ['', '', ''],\n   'content': 'Larry having their little moment there :)',\n   'label': 0},\n  {'user': 'cliffordslittlesecret',\n   'to': ['', '', ''],\n   'content': 'are of you actually fans of one direction ? or larry ? hard to tell tbh',\n   'label': 0},\n  {'user': 'boobguyniall',\n   'to': ['crazycrazycrazy1d', 'crazycrazycrazy1d', 'crazycrazycrazy1d'],\n   'content': \"@crazycrazycrazy1d lmao just because ur an elounor shipper doesn't mean you have to be a bitch lol shut up\",\n   'label': 1},\n  {'user': 'eilisa.halpinbarnett',\n   'to': ['', '', ''],\n   'content': '@ellacleary_',\n   'label': 0},\n  {'user': 'cliffordslittlesecret',\n   'to': ['', '', ''],\n   'content': '@ughedits not really',\n   'label': 0},\n  {'user': 'cliffordslittlesecret',\n   'to': ['sunshineniall', '', 'sunshineniall'],\n   'content': \"@sunshineniall I'm not a bitch just saying that people only seem to care about larry nowadays\",\n   'label': 0},\n  {'user': 'emilyjbenson',\n   'to': ['', '', ''],\n   'content': '@emmaemichels123',\n   'label': 0},\n  {'user': 'chiara_311', 'to': ['', '', ''], 'content': 'xD', 'label': 0},\n  {'user': 'asnatebedi',\n   'to': ['', '', ''],\n   'content': 'YALL matherfuckers Need Jesus..... I LOVE ME SOME 1D (ALL THE BOYS) the same',\n   'label': 0},\n  {'user': '_go_._away_',\n   'to': ['', '', ''],\n   'content': 'I was staring at Niall the whole time lol',\n   'label': 0},\n  {'user': 'dgillett18',\n   'to': ['', '', ''],\n   'content': '@oleclerc_07 @_marianna_h @lalalplp123',\n   'label': 0},\n  {'user': 'c.a.t.h.e.r.i.n.e',\n   'to': ['', '', ''],\n   'content': 'We got the Larry in this yay',\n   'label': 0},\n  {'user': 'just_luke_pics',\n   'to': ['', '', ''],\n   'content': 'Craic daddy craic daddy craic daddy',\n   'label': 0},\n  {'user': 'niallersparadise',\n   'to': ['', '', ''],\n   'content': \"Ya same i feel like they have changed so many peoples life's including mine :)\",\n   'label': 0},\n  {'user': 'm.colantuono',\n   'to': ['', '', ''],\n   'content': '@giraffe_99 _Å½â€šÂ´',\n   'label': 0},\n  {'user': 'allison.ruth',\n   'to': ['', '', ''],\n   'content': 'Larry, zayn being too cool to dance, Liam being the big child he is, and then well... Niall being Niall _Å½Ã›_',\n   'label': 0},\n  {'user': '_helenhorton',\n   'to': ['', '', ''],\n   'content': '@morgannberry_15',\n   'label': 0},\n  {'user': 'carolyn_salvatelli',\n   'to': ['', '', ''],\n   'content': '@mjglee',\n   'label': 0},\n  {'user': 'maggie.gleeson',\n   'to': ['', '', ''],\n   'content': 'Yesss @carolyn_salvatelli',\n   'label': 0},\n  {'user': 'bellaaarinaaa',\n   'to': ['', '', ''],\n   'content': 'Omg it does hahahaha',\n   'label': 0},\n  {'user': 'amandaer99',\n   'to': ['', '', ''],\n   'content': '@mia_iversen_huus se pÂ\\x90Å\\xa0 harry og louis, sÂ\\x90Å\\xa0 sÂ\\x90Ãˆtt c:',\n   'label': 0},\n  {'user': 'horuptionx',\n   'to': ['', '', ''],\n   'content': 'LARRY ON THE SIDE IM SCREAMIG',\n   'label': 0},\n  {'user': 'miaiversenhuus',\n   'to': ['', '', ''],\n   'content': 'Jaaaaaa C: @amandaer99',\n   'label': 0},\n  {'user': 'beamiller666',\n   'to': ['', '', ''],\n   'content': 'LARRY _Å½Â\\x90Ã¤_Å½Â\\x90Ã¤_Å½Â\\x90Ã¤_Å½Â\\x90Ã¤',\n   'label': 0},\n  {'user': 'danamelisax',\n   'to': ['', '', ''],\n   'content': 'Niall though... @_lovvely_erika_',\n   'label': 0},\n  {'user': 'ermstyles', 'to': ['', '', ''], 'content': 'ily', 'label': 0},\n  {'user': 'fancytomlinson',\n   'to': ['', '', ''],\n   'content': '@_charlie666 Larry being CUTEEE, Niall being Niall (lol), Liam aw aw, and Zayn being sexy',\n   'label': 0},\n  {'user': 'itsmorgii',\n   'to': ['', '', ''],\n   'content': 'YESYESYESYES',\n   'label': 0},\n  {'user': 'thehoranteam',\n   'to': ['', '', ''],\n   'content': 'Loolll niall',\n   'label': 0},\n  {'user': '_malisaurus_',\n   'to': ['', '', ''],\n   'content': 'Lol @nevereverevergiveup @morgan_nemecek',\n   'label': 0},\n  {'user': 'ptv.sammiee', 'to': ['', '', ''], 'content': 'Lol', 'label': 0},\n  {'user': 'josiemarieking',\n   'to': ['', '', ''],\n   'content': 'Liammmm',\n   'label': 0},\n  {'user': 'lauren_brady0405',\n   'to': ['', '', ''],\n   'content': '@nikki_dance_4234 OMG hahahahahah',\n   'label': 0},\n  {'user': '_emilyhost_',\n   'to': ['', '', ''],\n   'content': 'Niallllll',\n   'label': 0},\n  {'user': 'maria.papas',\n   'to': ['', '', ''],\n   'content': '@beauandlukes_girl',\n   'label': 0},\n  {'user': 'rexghxn',\n   'to': ['', '', ''],\n   'content': 'Wut is NIALL doing',\n   'label': 0},\n  {'user': '_cassidilla',\n   'to': ['', '', ''],\n   'content': 'niall_Å½Ã›__Å½Ã›__Å½Ã›_',\n   'label': 0},\n  {'user': 'sarahprovo4',\n   'to': ['', '', ''],\n   'content': 'Omg yes!!!! Hahahah _Å½Ã›__Å½_Â´_Å½â€šÂ´_Å½Â\\x90ÃŠ',\n   'label': 0},\n  {'user': 'erin_epic6',\n   'to': ['', '', ''],\n   'content': '@darienreid @ayenialler27',\n   'label': 0},\n  {'user': 'camryyn_',\n   'to': ['', '', ''],\n   'content': '@__sanders__ @alyssaschi yes',\n   'label': 0},\n  {'user': 'mon_mon_96',\n   'to': ['', '', ''],\n   'content': '@e_m_r_yeh haha yes so true...',\n   'label': 0},\n  {'user': 'allyrubens',\n   'to': ['', '', ''],\n   'content': '@nr_poems @macjohnson8 @raaquellll_ @saigefallas',\n   'label': 0},\n  {'user': 'morgannberry_15',\n   'to': ['', '', ''],\n   'content': '@_helenhorton _Å½Ã›__Å½Ã›__Å½Ã›__Å½â€šÂ´',\n   'label': 0},\n  {'user': 'allison.byers',\n   'to': ['', '', ''],\n   'content': 'look at Niall @nicolecorine',\n   'label': 0},\n  {'user': 'sakandra212',\n   'to': ['', '', ''],\n   'content': '@kadison18',\n   'label': 0},\n  {'user': 'kara.torres.welch',\n   'to': ['', '', ''],\n   'content': 'There is our boys! @zozeebo @brittney_nicole263',\n   'label': 0},\n  {'user': 'brittney_nicole263',\n   'to': ['', '', ''],\n   'content': 'Bahaha look at Niall!__Â\\x8d__Å\\xa0 @karatorreswelch',\n   'label': 0},\n  {'user': 'macjohnson8',\n   'to': ['', '', ''],\n   'content': '@allyrubens no',\n   'label': 0},\n  {'user': 'kara.torres.welch',\n   'to': ['', '', ''],\n   'content': 'I know! And then we have a bit of Larry on the side! @brittney_nicole263',\n   'label': 0},\n  {'user': 'brittney_nicole263',\n   'to': ['', '', ''],\n   'content': 'Haha! @karatorreswelch',\n   'label': 0},\n  {'user': 'camycookie33',\n   'to': ['', '', ''],\n   'content': '@avabrand',\n   'label': 0},\n  {'user': 'sigh.kylie',\n   'to': ['', '', ''],\n   'content': 'LARRY__Â\\x8d',\n   'label': 0},\n  {'user': 'smhnv',\n   'to': ['', '', ''],\n   'content': '@mahomiesforever_pizza',\n   'label': 0},\n  {'user': 'ayeimsarah',\n   'to': ['', '', ''],\n   'content': \"I CAN'T EVEN YOU GUYS HAVE TO TAKE LOADS OF PICS AND TEXT ME AND EVERYTHING CAUSE AHAHSHAODMISJSALQOPADNSN SO HAPPY FOR YOU OMG\",\n   'label': 0},\n  {'user': 'whatever.1d',\n   'to': ['', '', ''],\n   'content': 'Everyone is dancing, while Larry, well, is being Larry...',\n   'label': 0},\n  {'user': 'larrysfighters',\n   'to': ['', '', ''],\n   'content': 'Pretty much... Pretty much',\n   'label': 0},\n  {'user': 'w0aharii',\n   'to': ['', '', ''],\n   'content': '@ciaraangie_',\n   'label': 0},\n  {'user': 'the_irish_1_tho',\n   'to': ['', '', ''],\n   'content': '_Å½Ã›__Å½Ã›__Å½Ã›__Å½Ã›__Å½Ã›__Å½Ã›_niall_Å½Ã›__Å½Ã›__Å½Ã›__Å½Ã›_',\n   'label': 0},\n  {'user': 'xxjazimehxx',\n   'to': ['', '', ''],\n   'content': 'LARRY!!!!!!!!!! Ahhhhh!!!!',\n   'label': 0},\n  {'user': 'dedicated_to_1d_69',\n   'to': ['', '', ''],\n   'content': 'I ship larry so hard, this does pretty much sum It up by the way in love with ur page!!!!!!!_Å½Ã›Ã›__Â´â€°ÃˆÂ\\x8f_Å½â€šÂ´_Å½Â\\x90__Å½_Ã®',\n   'label': 0},\n  {'user': 'ysminnn_', 'to': ['', '', ''], 'content': 'LARRYY', 'label': 0},\n  {'user': 'elliegracecurven',\n   'to': ['', '', ''],\n   'content': 'my foot is numb',\n   'label': 0},\n  {'user': 'beydriana',\n   'to': ['', '', ''],\n   'content': \"it's literally one direction perfectly summed up ... Larry, zayn, crazy Liam , and ... Niall oh niall we worry about him\",\n   'label': 0},\n  {'user': 'maggieweitzel',\n   'to': ['', '', ''],\n   'content': '@_sam_pierson @_alicarlson @maadiieeee',\n   'label': 0},\n  {'user': 'kyraaaaaa_slater',\n   'to': ['', '', ''],\n   'content': 'LARRRRRRRYYYYYYYYY!',\n   'label': 0},\n  {'user': 'emilia99_',\n   'to': ['', '', ''],\n   'content': \"Hahahah but Larry isn't happening much anymore cuz people kept bothering them about it. @ziallwife4life which sucks cuz they deserve to live their lives\",\n   'label': 0},\n  {'user': 'dgillett18',\n   'to': ['', '', ''],\n   'content': '@mj_is_my_lifee @_marianna_h @lalalplp123 @abby_horan_ @oleclerc_07',\n   'label': 0},\n  {'user': 'kyleesharai',\n   'to': ['', '', ''],\n   'content': 'Wow no arguement there @1d_those_5boys',\n   'label': 0},\n  {'user': 'dreams.at.work',\n   'to': ['', '', ''],\n   'content': '@morganlydia98 haha ;)',\n   'label': 0},\n  {'user': 'vivianeillen',\n   'to': ['', '', ''],\n   'content': 'Niall and Liam and zayn is all random,and Larry moments',\n   'label': 0},\n  {'user': 'seyoung.leee',\n   'to': ['', '', ''],\n   'content': 'Oh niall',\n   'label': 0},\n  {'user': 'icarlyxoxo',\n   'to': ['', '', ''],\n   'content': '@morgan_pollak _Å½Ã›__Å½Ã›__Å½Ã›__Å½Ã›_',\n   'label': 0},\n  {'user': 'morgan_pollak',\n   'to': ['', '', ''],\n   'content': '@icarlyxoxo yes. We will be directioner buddies at school.',\n   'label': 0},\n  {'user': 'icarlyxoxo',\n   'to': ['', '', ''],\n   'content': 'Hell. To. The. Yes. @morgan_pollak',\n   'label': 0},\n  {'user': 'nell_noell_10',\n   'to': ['', '', ''],\n   'content': 'Niall_Å½Ã›Â\\x9d_Å½Ã›__Å½Ã›__Å½Ã›__Å½Ã›__Å½Ã›__Å½Ã›__Å½Ã›__Å½Ã›__Å½Ã›_',\n   'label': 0},\n  {'user': 'aisling_coates',\n   'to': ['', '', ''],\n   'content': '@moll_ie_',\n   'label': 0}]}"
     },
     "execution_count": 116,
     "metadata": {},
     "output_type": "execute_result"
    }
   ],
   "source": [
    "get_session_info(t_xl_file, t_xl_file.sheet_names[0])"
   ],
   "metadata": {
    "collapsed": false
   }
  },
  {
   "cell_type": "code",
   "execution_count": 80,
   "outputs": [],
   "source": [
    "a = zip([1,2,3], [4,5,6], [7, 8, 9])"
   ],
   "metadata": {
    "collapsed": false
   }
  },
  {
   "cell_type": "code",
   "execution_count": 76,
   "outputs": [
    {
     "ename": "IndexError",
     "evalue": "list index out of range",
     "output_type": "error",
     "traceback": [
      "\u001B[0;31m---------------------------------------------------------------------------\u001B[0m",
      "\u001B[0;31mIndexError\u001B[0m                                Traceback (most recent call last)",
      "Input \u001B[0;32mIn [76]\u001B[0m, in \u001B[0;36m<cell line: 1>\u001B[0;34m()\u001B[0m\n\u001B[0;32m----> 1\u001B[0m \u001B[38;5;28;43mlist\u001B[39;49m\u001B[43m(\u001B[49m\u001B[43ma\u001B[49m\u001B[43m)\u001B[49m\u001B[43m[\u001B[49m\u001B[38;5;241;43m0\u001B[39;49m\u001B[43m]\u001B[49m\n",
      "\u001B[0;31mIndexError\u001B[0m: list index out of range"
     ]
    }
   ],
   "source": [
    "list(a)[0]"
   ],
   "metadata": {
    "collapsed": false
   }
  },
  {
   "cell_type": "code",
   "execution_count": 81,
   "outputs": [],
   "source": [
    "b = list(a)"
   ],
   "metadata": {
    "collapsed": false
   }
  },
  {
   "cell_type": "code",
   "execution_count": 83,
   "outputs": [
    {
     "data": {
      "text/plain": "(1, 4, 7)"
     },
     "execution_count": 83,
     "metadata": {},
     "output_type": "execute_result"
    }
   ],
   "source": [
    "b[0]"
   ],
   "metadata": {
    "collapsed": false
   }
  },
  {
   "cell_type": "code",
   "execution_count": 105,
   "outputs": [
    {
     "data": {
      "text/plain": "True"
     },
     "execution_count": 105,
     "metadata": {},
     "output_type": "execute_result"
    }
   ],
   "source": [
    "pd.isna(t_sheet[t_sheet.columns[35]][1])"
   ],
   "metadata": {
    "collapsed": false
   }
  },
  {
   "cell_type": "code",
   "execution_count": null,
   "outputs": [],
   "source": [],
   "metadata": {
    "collapsed": false
   }
  },
  {
   "cell_type": "code",
   "execution_count": null,
   "outputs": [],
   "source": [],
   "metadata": {
    "collapsed": false
   }
  },
  {
   "cell_type": "code",
   "execution_count": null,
   "outputs": [],
   "source": [],
   "metadata": {
    "collapsed": false
   }
  },
  {
   "cell_type": "code",
   "execution_count": 18,
   "outputs": [],
   "source": [
    "import tweepy"
   ],
   "metadata": {
    "collapsed": false
   }
  },
  {
   "cell_type": "code",
   "execution_count": 5,
   "outputs": [],
   "source": [
    "data_dir = \"/home/anique/projects/Interpretable-Multimodal-Hate-Speech/resources/MMHS_dataset\""
   ],
   "metadata": {
    "collapsed": false
   }
  },
  {
   "cell_type": "code",
   "execution_count": 7,
   "outputs": [],
   "source": [
    "with open(os.path.join(data_dir, 'train.txt'), 'r') as train_file:\n",
    "    train_text = train_file.readlines()"
   ],
   "metadata": {
    "collapsed": false
   }
  },
  {
   "cell_type": "code",
   "execution_count": 11,
   "outputs": [],
   "source": [
    "train_data = [json.loads(x) for x in train_text]"
   ],
   "metadata": {
    "collapsed": false
   }
  },
  {
   "cell_type": "code",
   "execution_count": 13,
   "outputs": [],
   "source": [
    "train_df = pd.DataFrame(train_data)"
   ],
   "metadata": {
    "collapsed": false
   }
  },
  {
   "cell_type": "code",
   "execution_count": 33,
   "outputs": [
    {
     "data": {
      "text/plain": "                         id  \\\n0       1114679353714016256   \n1       1063020048816660480   \n2       1108927368075374593   \n3       1114558534635618305   \n4       1106978219654303744   \n...                     ...   \n134806  1114170734472048640   \n134807  1110368198786846720   \n134808  1106941858540851200   \n134809  1105268309233188865   \n134810  1114653514364530691   \n\n                                                     text  \\\n0                                            <user> nigga   \n1                                  my horses are retarded   \n2       nigga on ma momma youngboy be spitting real sh...   \n3       rt xxsugvngxx i ran into this holy nigga today...   \n4                 real ass bitch give a fuck boutta nigga   \n...                                                   ...   \n134806       <user> i would just say hes donny the retard   \n134807          <user> congrats my nigga keep on grinding   \n134808                                my nigga big shitty   \n134809  did she just say my nigga to rich she said it ...   \n134810  this nigga joe budden said thanos got a galact...   \n\n                                               image_text  \\\n0                                        youngeru save it   \n1                                                           \n2                                                           \n3                                                           \n4                                                           \n...                                                   ...   \n134806                              late mogif late motiv   \n134807  on air elapsed time select your level reward o...   \n134808                                                      \n134809                                                      \n134810                                                      \n\n                                            original_text  \\\n0            @FriskDontMiss Nigga https://t.co/cAsaLWEpue   \n1          My horses are retarded https://t.co/HYhqc6d5WN   \n2       “NIGGA ON MA MOMMA YOUNGBOY BE SPITTING REAL S...   \n3       RT xxSuGVNGxx: I ran into this HOLY NIGGA TODA...   \n4       “ real ass bitch give a fuck boutta nigga” htt...   \n...                                                   ...   \n134806  @svdate @gtconway3d I would just say hes Donny...   \n134807  @Cheftime_Dev congrats my nigga keep on grindi...   \n134808        My nigga big shitty https://t.co/e0snJGBgH9   \n134809  did she just say “my nigga” to Rich? &amp; she...   \n134810  This nigga Joe Budden said thanos got a galact...   \n\n                                      original_image_text    label  \\\n0                                      #YOUNGERU SAVE IT      Hate   \n1                                                             Hate   \n2                                                          NotHate   \n3                                                          NotHate   \n4                                                          NotHate   \n...                                                   ...      ...   \n134806                             LATE MOGIF LATE MOTIV      Hate   \n134807  ON AIR Elapsed Time: 05.47:18 Select Your Leve...  NotHate   \n134808                                                     NotHate   \n134809                                                     NotHate   \n134810                                                     NotHate   \n\n                           original_label  \n0           [Religion, Racist, Homophobe]  \n1       [OtherHate, OtherHate, OtherHate]  \n2             [NotHate, NotHate, NotHate]  \n3              [Racist, NotHate, NotHate]  \n4             [NotHate, NotHate, NotHate]  \n...                                   ...  \n134806       [Sexist, OtherHate, NotHate]  \n134807        [NotHate, NotHate, NotHate]  \n134808         [NotHate, Racist, NotHate]  \n134809         [Racist, NotHate, NotHate]  \n134810      [NotHate, NotHate, Homophobe]  \n\n[134811 rows x 7 columns]",
      "text/html": "<div>\n<style scoped>\n    .dataframe tbody tr th:only-of-type {\n        vertical-align: middle;\n    }\n\n    .dataframe tbody tr th {\n        vertical-align: top;\n    }\n\n    .dataframe thead th {\n        text-align: right;\n    }\n</style>\n<table border=\"1\" class=\"dataframe\">\n  <thead>\n    <tr style=\"text-align: right;\">\n      <th></th>\n      <th>id</th>\n      <th>text</th>\n      <th>image_text</th>\n      <th>original_text</th>\n      <th>original_image_text</th>\n      <th>label</th>\n      <th>original_label</th>\n    </tr>\n  </thead>\n  <tbody>\n    <tr>\n      <th>0</th>\n      <td>1114679353714016256</td>\n      <td>&lt;user&gt; nigga</td>\n      <td>youngeru save it</td>\n      <td>@FriskDontMiss Nigga https://t.co/cAsaLWEpue</td>\n      <td>#YOUNGERU SAVE IT</td>\n      <td>Hate</td>\n      <td>[Religion, Racist, Homophobe]</td>\n    </tr>\n    <tr>\n      <th>1</th>\n      <td>1063020048816660480</td>\n      <td>my horses are retarded</td>\n      <td></td>\n      <td>My horses are retarded https://t.co/HYhqc6d5WN</td>\n      <td></td>\n      <td>Hate</td>\n      <td>[OtherHate, OtherHate, OtherHate]</td>\n    </tr>\n    <tr>\n      <th>2</th>\n      <td>1108927368075374593</td>\n      <td>nigga on ma momma youngboy be spitting real sh...</td>\n      <td></td>\n      <td>“NIGGA ON MA MOMMA YOUNGBOY BE SPITTING REAL S...</td>\n      <td></td>\n      <td>NotHate</td>\n      <td>[NotHate, NotHate, NotHate]</td>\n    </tr>\n    <tr>\n      <th>3</th>\n      <td>1114558534635618305</td>\n      <td>rt xxsugvngxx i ran into this holy nigga today...</td>\n      <td></td>\n      <td>RT xxSuGVNGxx: I ran into this HOLY NIGGA TODA...</td>\n      <td></td>\n      <td>NotHate</td>\n      <td>[Racist, NotHate, NotHate]</td>\n    </tr>\n    <tr>\n      <th>4</th>\n      <td>1106978219654303744</td>\n      <td>real ass bitch give a fuck boutta nigga</td>\n      <td></td>\n      <td>“ real ass bitch give a fuck boutta nigga” htt...</td>\n      <td></td>\n      <td>NotHate</td>\n      <td>[NotHate, NotHate, NotHate]</td>\n    </tr>\n    <tr>\n      <th>...</th>\n      <td>...</td>\n      <td>...</td>\n      <td>...</td>\n      <td>...</td>\n      <td>...</td>\n      <td>...</td>\n      <td>...</td>\n    </tr>\n    <tr>\n      <th>134806</th>\n      <td>1114170734472048640</td>\n      <td>&lt;user&gt; i would just say hes donny the retard</td>\n      <td>late mogif late motiv</td>\n      <td>@svdate @gtconway3d I would just say hes Donny...</td>\n      <td>LATE MOGIF LATE MOTIV</td>\n      <td>Hate</td>\n      <td>[Sexist, OtherHate, NotHate]</td>\n    </tr>\n    <tr>\n      <th>134807</th>\n      <td>1110368198786846720</td>\n      <td>&lt;user&gt; congrats my nigga keep on grinding</td>\n      <td>on air elapsed time select your level reward o...</td>\n      <td>@Cheftime_Dev congrats my nigga keep on grindi...</td>\n      <td>ON AIR Elapsed Time: 05.47:18 Select Your Leve...</td>\n      <td>NotHate</td>\n      <td>[NotHate, NotHate, NotHate]</td>\n    </tr>\n    <tr>\n      <th>134808</th>\n      <td>1106941858540851200</td>\n      <td>my nigga big shitty</td>\n      <td></td>\n      <td>My nigga big shitty https://t.co/e0snJGBgH9</td>\n      <td></td>\n      <td>NotHate</td>\n      <td>[NotHate, Racist, NotHate]</td>\n    </tr>\n    <tr>\n      <th>134809</th>\n      <td>1105268309233188865</td>\n      <td>did she just say my nigga to rich she said it ...</td>\n      <td></td>\n      <td>did she just say “my nigga” to Rich? &amp;amp; she...</td>\n      <td></td>\n      <td>NotHate</td>\n      <td>[Racist, NotHate, NotHate]</td>\n    </tr>\n    <tr>\n      <th>134810</th>\n      <td>1114653514364530691</td>\n      <td>this nigga joe budden said thanos got a galact...</td>\n      <td></td>\n      <td>This nigga Joe Budden said thanos got a galact...</td>\n      <td></td>\n      <td>NotHate</td>\n      <td>[NotHate, NotHate, Homophobe]</td>\n    </tr>\n  </tbody>\n</table>\n<p>134811 rows × 7 columns</p>\n</div>"
     },
     "execution_count": 33,
     "metadata": {},
     "output_type": "execute_result"
    }
   ],
   "source": [
    "train_df"
   ],
   "metadata": {
    "collapsed": false
   }
  },
  {
   "cell_type": "code",
   "execution_count": 23,
   "outputs": [],
   "source": [
    "auth = tweepy.OAuth1UserHandler(\n",
    "    \"7PjXbGnOe0cHGbQhlJDd5vUlY\",\n",
    "    \"UT9UlXKpXL59nG0iDh43mYVH3zubhyW2kuItQt04kDAPGKu05K\",\n",
    "    \"3746388736-XhAIIODGhFyB1La0HXzxz8Iha6DJXGupSVvHV1x\",\n",
    "    \"CPpT6oIw1YoMfnMS7iMtZgnACOU6idy84bomij2KUlteq\"\n",
    ")"
   ],
   "metadata": {
    "collapsed": false
   }
  },
  {
   "cell_type": "code",
   "execution_count": 24,
   "outputs": [
    {
     "name": "stdout",
     "output_type": "stream",
     "text": [
      "After discussing it with our seniors we transferred the missing case to Delhi. We cannot say how &amp; when he murdered… https://t.co/LRl1s6KteJ\n",
      "Mumbai | The (accused) man said they both used to live together in Delhi but she left him after a fight. His statem… https://t.co/YUptRDqIjE\n",
      "What’s your current sentiment about crypto?\n",
      "Zeldin: NY crime not going anywhere because election is over, residents tasked with deciding whether to stay https://t.co/vZXfqMkHNW\n",
      "Biden says he and Xi have \"responsibility\" to show U.S., China can \"manage our differences,\" find areas of cooperat… https://t.co/JWYKY0dCro\n",
      "The vintage aircraft in Saturday's deadly collision at a Dallas air show, as expected, lacked flight data recorders… https://t.co/Rnii5DeCPZ\n",
      "President Biden and his Chinese counterpart, Xi Jinping, will hold a face-to-face meeting in Bali. The talks comes… https://t.co/BSIunjMHCj\n",
      "BREAKING: U.S. President Joe Biden, Chinese President Xi Jinping shake hands, open meeting aiming to \"build a floor… https://t.co/D7gwxpCNrt\n",
      "U Mumba move upward and onwards after sinking the Pirates 🤩\n",
      " \n",
      "Relive their win against Patna Pirates! 👏🏼\n",
      " \n",
      "To have… https://t.co/wurjRkUibt\n",
      "This creamy shrimp salad has Sicilian roots by way of New Orleans\n",
      "https://t.co/l41SQFscdK\n",
      "Tennessee school resource officer busts produce delivery driver with suspected fentanyl, loaded gun on campus https://t.co/QxodmqxsPH\n",
      "Ukraine's President Zelensky arrives in Kherson for an unannounced visit to celebrate recapture of the key southern… https://t.co/Ls4Fi2MP0v\n",
      "Ukraine's President Zelensky arrives in Kherson for an unannounced visit to celebrate recapture of the key southern… https://t.co/oQtwsj3gxO\n",
      "Ukraine's President Zelensky arrives in Kherson for an unannounced visit to celebrate recapture of the key southern… https://t.co/aDh2kZmKME\n",
      "RT @BBCBreaking: Ukraine's President Zelensky visits recently recaptured city Kherson, telling troops \"we are moving forward\" https://t.co/…\n",
      "There's nothing to hide. Whatever we've given for charitable work, we have given. We're also in public life. There… https://t.co/C2q0pGeEda\n",
      "DEVELOPING: Police are hunting for a suspect after a shooting on the University of Virginia's main campus left thre… https://t.co/hOgpUHtwxi\n",
      "Alec Baldwin accuses 'Rust' crew members of negligence in new lawsuit. https://t.co/P0kVdDy7MY\n",
      "Russia's foreign ministry said on Monday that media reports Foreign Minister Sergei Lavrov had been taken to hospit… https://t.co/kj000ZA92e\n",
      "\"I will do my best to do good things with this money,\" Dolly Parton says https://t.co/yIp6n1jlhf\n"
     ]
    }
   ],
   "source": [
    "api = tweepy.API(auth)\n",
    "\n",
    "public_tweets = api.home_timeline()\n",
    "for t in public_tweets:\n",
    "    print(t.text)"
   ],
   "metadata": {
    "collapsed": false
   }
  },
  {
   "cell_type": "code",
   "execution_count": 70,
   "outputs": [],
   "source": [
    "import datasets"
   ],
   "metadata": {
    "collapsed": false
   }
  },
  {
   "cell_type": "code",
   "execution_count": 71,
   "outputs": [
    {
     "data": {
      "text/plain": "Downloading readme:   0%|          | 0.00/3.97k [00:00<?, ?B/s]",
      "application/vnd.jupyter.widget-view+json": {
       "version_major": 2,
       "version_minor": 0,
       "model_id": "8c2f075241074ce0b8b97fa5d1797680"
      }
     },
     "metadata": {},
     "output_type": "display_data"
    },
    {
     "name": "stderr",
     "output_type": "stream",
     "text": [
      "Using custom data configuration ucberkeley-dlab--measuring-hate-speech-4f45d42aa1ce66f3\n"
     ]
    },
    {
     "name": "stdout",
     "output_type": "stream",
     "text": [
      "Downloading and preparing dataset parquet/ucberkeley-dlab--measuring-hate-speech to /home/anique/.cache/huggingface/datasets/ucberkeley-dlab___parquet/ucberkeley-dlab--measuring-hate-speech-4f45d42aa1ce66f3/0.0.0/2a3b91fbd88a2c90d1dbbb32b460cf621d31bd5b05b934492fdef7d8d6f236ec...\n"
     ]
    },
    {
     "data": {
      "text/plain": "Downloading data files:   0%|          | 0/1 [00:00<?, ?it/s]",
      "application/vnd.jupyter.widget-view+json": {
       "version_major": 2,
       "version_minor": 0,
       "model_id": "79ef336d6b8a42a9910c315b40df1d8a"
      }
     },
     "metadata": {},
     "output_type": "display_data"
    },
    {
     "data": {
      "text/plain": "Downloading data:   0%|          | 0.00/14.1M [00:00<?, ?B/s]",
      "application/vnd.jupyter.widget-view+json": {
       "version_major": 2,
       "version_minor": 0,
       "model_id": "31bab70d58af4c3aa8875fe6c41ab089"
      }
     },
     "metadata": {},
     "output_type": "display_data"
    },
    {
     "data": {
      "text/plain": "Extracting data files:   0%|          | 0/1 [00:00<?, ?it/s]",
      "application/vnd.jupyter.widget-view+json": {
       "version_major": 2,
       "version_minor": 0,
       "model_id": "4549f4bc94734e12bd6ac25b746410c4"
      }
     },
     "metadata": {},
     "output_type": "display_data"
    },
    {
     "data": {
      "text/plain": "0 tables [00:00, ? tables/s]",
      "application/vnd.jupyter.widget-view+json": {
       "version_major": 2,
       "version_minor": 0,
       "model_id": "b1f4ef7e96b3440da2064ce215b5212b"
      }
     },
     "metadata": {},
     "output_type": "display_data"
    },
    {
     "name": "stdout",
     "output_type": "stream",
     "text": [
      "Dataset parquet downloaded and prepared to /home/anique/.cache/huggingface/datasets/ucberkeley-dlab___parquet/ucberkeley-dlab--measuring-hate-speech-4f45d42aa1ce66f3/0.0.0/2a3b91fbd88a2c90d1dbbb32b460cf621d31bd5b05b934492fdef7d8d6f236ec. Subsequent calls will reuse this data.\n"
     ]
    },
    {
     "data": {
      "text/plain": "  0%|          | 0/1 [00:00<?, ?it/s]",
      "application/vnd.jupyter.widget-view+json": {
       "version_major": 2,
       "version_minor": 0,
       "model_id": "010e3f2544c147c4925661fa18517d14"
      }
     },
     "metadata": {},
     "output_type": "display_data"
    }
   ],
   "source": [
    "hate_severity_data = datasets.load_dataset('ucberkeley-dlab/measuring-hate-speech', 'binary')\n",
    "df = hate_severity_data['train'].to_pandas()"
   ],
   "metadata": {
    "collapsed": false
   }
  },
  {
   "cell_type": "code",
   "execution_count": 73,
   "outputs": [
    {
     "data": {
      "text/plain": "        comment_id  annotator_id  platform  sentiment  respect  insult  \\\n0            47777         10873         3        0.0      0.0     0.0   \n1            39773          2790         2        0.0      0.0     0.0   \n2            47101          3379         3        4.0      4.0     4.0   \n3            43625          7365         3        2.0      3.0     2.0   \n4            12538           488         0        4.0      4.0     4.0   \n...            ...           ...       ...        ...      ...     ...   \n135551       37080          8590         2        1.0      1.0     0.0   \n135552       22986          8303         2        2.0      0.0     0.0   \n135553       21008          6207         2        1.0      1.0     1.0   \n135554       22986          7886         2        2.0      0.0     0.0   \n135555       14785          6897         0        4.0      4.0     4.0   \n\n        humiliate  status  dehumanize  violence  ...  \\\n0             0.0     2.0         0.0       0.0  ...   \n1             0.0     2.0         0.0       0.0  ...   \n2             4.0     4.0         4.0       0.0  ...   \n3             1.0     2.0         0.0       0.0  ...   \n4             4.0     4.0         4.0       4.0  ...   \n...           ...     ...         ...       ...  ...   \n135551        0.0     2.0         0.0       0.0  ...   \n135552        0.0     2.0         0.0       0.0  ...   \n135553        1.0     1.0         0.0       0.0  ...   \n135554        0.0     2.0         0.0       0.0  ...   \n135555        2.0     2.0         2.0       3.0  ...   \n\n        annotator_religion_hindu  annotator_religion_jewish  \\\n0                          False                      False   \n1                          False                      False   \n2                          False                      False   \n3                          False                      False   \n4                          False                      False   \n...                          ...                        ...   \n135551                     False                      False   \n135552                     False                      False   \n135553                     False                      False   \n135554                     False                      False   \n135555                     False                      False   \n\n        annotator_religion_mormon  annotator_religion_muslim  \\\n0                           False                      False   \n1                           False                      False   \n2                           False                      False   \n3                           False                      False   \n4                           False                      False   \n...                           ...                        ...   \n135551                      False                      False   \n135552                      False                      False   \n135553                      False                      False   \n135554                      False                      False   \n135555                      False                      False   \n\n       annotator_religion_nothing  annotator_religion_other  \\\n0                           False                     False   \n1                           False                     False   \n2                            True                     False   \n3                           False                     False   \n4                           False                     False   \n...                           ...                       ...   \n135551                      False                     False   \n135552                      False                      True   \n135553                      False                     False   \n135554                       True                     False   \n135555                      False                     False   \n\n        annotator_sexuality_bisexual  annotator_sexuality_gay  \\\n0                              False                    False   \n1                              False                    False   \n2                              False                    False   \n3                              False                    False   \n4                              False                    False   \n...                              ...                      ...   \n135551                         False                    False   \n135552                          True                    False   \n135553                         False                    False   \n135554                         False                    False   \n135555                         False                    False   \n\n        annotator_sexuality_straight  annotator_sexuality_other  \n0                               True                      False  \n1                               True                      False  \n2                               True                      False  \n3                               True                      False  \n4                               True                      False  \n...                              ...                        ...  \n135551                          True                      False  \n135552                         False                      False  \n135553                          True                      False  \n135554                          True                      False  \n135555                          True                      False  \n\n[135556 rows x 131 columns]",
      "text/html": "<div>\n<style scoped>\n    .dataframe tbody tr th:only-of-type {\n        vertical-align: middle;\n    }\n\n    .dataframe tbody tr th {\n        vertical-align: top;\n    }\n\n    .dataframe thead th {\n        text-align: right;\n    }\n</style>\n<table border=\"1\" class=\"dataframe\">\n  <thead>\n    <tr style=\"text-align: right;\">\n      <th></th>\n      <th>comment_id</th>\n      <th>annotator_id</th>\n      <th>platform</th>\n      <th>sentiment</th>\n      <th>respect</th>\n      <th>insult</th>\n      <th>humiliate</th>\n      <th>status</th>\n      <th>dehumanize</th>\n      <th>violence</th>\n      <th>...</th>\n      <th>annotator_religion_hindu</th>\n      <th>annotator_religion_jewish</th>\n      <th>annotator_religion_mormon</th>\n      <th>annotator_religion_muslim</th>\n      <th>annotator_religion_nothing</th>\n      <th>annotator_religion_other</th>\n      <th>annotator_sexuality_bisexual</th>\n      <th>annotator_sexuality_gay</th>\n      <th>annotator_sexuality_straight</th>\n      <th>annotator_sexuality_other</th>\n    </tr>\n  </thead>\n  <tbody>\n    <tr>\n      <th>0</th>\n      <td>47777</td>\n      <td>10873</td>\n      <td>3</td>\n      <td>0.0</td>\n      <td>0.0</td>\n      <td>0.0</td>\n      <td>0.0</td>\n      <td>2.0</td>\n      <td>0.0</td>\n      <td>0.0</td>\n      <td>...</td>\n      <td>False</td>\n      <td>False</td>\n      <td>False</td>\n      <td>False</td>\n      <td>False</td>\n      <td>False</td>\n      <td>False</td>\n      <td>False</td>\n      <td>True</td>\n      <td>False</td>\n    </tr>\n    <tr>\n      <th>1</th>\n      <td>39773</td>\n      <td>2790</td>\n      <td>2</td>\n      <td>0.0</td>\n      <td>0.0</td>\n      <td>0.0</td>\n      <td>0.0</td>\n      <td>2.0</td>\n      <td>0.0</td>\n      <td>0.0</td>\n      <td>...</td>\n      <td>False</td>\n      <td>False</td>\n      <td>False</td>\n      <td>False</td>\n      <td>False</td>\n      <td>False</td>\n      <td>False</td>\n      <td>False</td>\n      <td>True</td>\n      <td>False</td>\n    </tr>\n    <tr>\n      <th>2</th>\n      <td>47101</td>\n      <td>3379</td>\n      <td>3</td>\n      <td>4.0</td>\n      <td>4.0</td>\n      <td>4.0</td>\n      <td>4.0</td>\n      <td>4.0</td>\n      <td>4.0</td>\n      <td>0.0</td>\n      <td>...</td>\n      <td>False</td>\n      <td>False</td>\n      <td>False</td>\n      <td>False</td>\n      <td>True</td>\n      <td>False</td>\n      <td>False</td>\n      <td>False</td>\n      <td>True</td>\n      <td>False</td>\n    </tr>\n    <tr>\n      <th>3</th>\n      <td>43625</td>\n      <td>7365</td>\n      <td>3</td>\n      <td>2.0</td>\n      <td>3.0</td>\n      <td>2.0</td>\n      <td>1.0</td>\n      <td>2.0</td>\n      <td>0.0</td>\n      <td>0.0</td>\n      <td>...</td>\n      <td>False</td>\n      <td>False</td>\n      <td>False</td>\n      <td>False</td>\n      <td>False</td>\n      <td>False</td>\n      <td>False</td>\n      <td>False</td>\n      <td>True</td>\n      <td>False</td>\n    </tr>\n    <tr>\n      <th>4</th>\n      <td>12538</td>\n      <td>488</td>\n      <td>0</td>\n      <td>4.0</td>\n      <td>4.0</td>\n      <td>4.0</td>\n      <td>4.0</td>\n      <td>4.0</td>\n      <td>4.0</td>\n      <td>4.0</td>\n      <td>...</td>\n      <td>False</td>\n      <td>False</td>\n      <td>False</td>\n      <td>False</td>\n      <td>False</td>\n      <td>False</td>\n      <td>False</td>\n      <td>False</td>\n      <td>True</td>\n      <td>False</td>\n    </tr>\n    <tr>\n      <th>...</th>\n      <td>...</td>\n      <td>...</td>\n      <td>...</td>\n      <td>...</td>\n      <td>...</td>\n      <td>...</td>\n      <td>...</td>\n      <td>...</td>\n      <td>...</td>\n      <td>...</td>\n      <td>...</td>\n      <td>...</td>\n      <td>...</td>\n      <td>...</td>\n      <td>...</td>\n      <td>...</td>\n      <td>...</td>\n      <td>...</td>\n      <td>...</td>\n      <td>...</td>\n      <td>...</td>\n    </tr>\n    <tr>\n      <th>135551</th>\n      <td>37080</td>\n      <td>8590</td>\n      <td>2</td>\n      <td>1.0</td>\n      <td>1.0</td>\n      <td>0.0</td>\n      <td>0.0</td>\n      <td>2.0</td>\n      <td>0.0</td>\n      <td>0.0</td>\n      <td>...</td>\n      <td>False</td>\n      <td>False</td>\n      <td>False</td>\n      <td>False</td>\n      <td>False</td>\n      <td>False</td>\n      <td>False</td>\n      <td>False</td>\n      <td>True</td>\n      <td>False</td>\n    </tr>\n    <tr>\n      <th>135552</th>\n      <td>22986</td>\n      <td>8303</td>\n      <td>2</td>\n      <td>2.0</td>\n      <td>0.0</td>\n      <td>0.0</td>\n      <td>0.0</td>\n      <td>2.0</td>\n      <td>0.0</td>\n      <td>0.0</td>\n      <td>...</td>\n      <td>False</td>\n      <td>False</td>\n      <td>False</td>\n      <td>False</td>\n      <td>False</td>\n      <td>True</td>\n      <td>True</td>\n      <td>False</td>\n      <td>False</td>\n      <td>False</td>\n    </tr>\n    <tr>\n      <th>135553</th>\n      <td>21008</td>\n      <td>6207</td>\n      <td>2</td>\n      <td>1.0</td>\n      <td>1.0</td>\n      <td>1.0</td>\n      <td>1.0</td>\n      <td>1.0</td>\n      <td>0.0</td>\n      <td>0.0</td>\n      <td>...</td>\n      <td>False</td>\n      <td>False</td>\n      <td>False</td>\n      <td>False</td>\n      <td>False</td>\n      <td>False</td>\n      <td>False</td>\n      <td>False</td>\n      <td>True</td>\n      <td>False</td>\n    </tr>\n    <tr>\n      <th>135554</th>\n      <td>22986</td>\n      <td>7886</td>\n      <td>2</td>\n      <td>2.0</td>\n      <td>0.0</td>\n      <td>0.0</td>\n      <td>0.0</td>\n      <td>2.0</td>\n      <td>0.0</td>\n      <td>0.0</td>\n      <td>...</td>\n      <td>False</td>\n      <td>False</td>\n      <td>False</td>\n      <td>False</td>\n      <td>True</td>\n      <td>False</td>\n      <td>False</td>\n      <td>False</td>\n      <td>True</td>\n      <td>False</td>\n    </tr>\n    <tr>\n      <th>135555</th>\n      <td>14785</td>\n      <td>6897</td>\n      <td>0</td>\n      <td>4.0</td>\n      <td>4.0</td>\n      <td>4.0</td>\n      <td>2.0</td>\n      <td>2.0</td>\n      <td>2.0</td>\n      <td>3.0</td>\n      <td>...</td>\n      <td>False</td>\n      <td>False</td>\n      <td>False</td>\n      <td>False</td>\n      <td>False</td>\n      <td>False</td>\n      <td>False</td>\n      <td>False</td>\n      <td>True</td>\n      <td>False</td>\n    </tr>\n  </tbody>\n</table>\n<p>135556 rows × 131 columns</p>\n</div>"
     },
     "execution_count": 73,
     "metadata": {},
     "output_type": "execute_result"
    }
   ],
   "source": [
    "df"
   ],
   "metadata": {
    "collapsed": false
   }
  },
  {
   "cell_type": "code",
   "execution_count": 74,
   "outputs": [
    {
     "data": {
      "text/plain": "DatasetDict({\n    train: Dataset({\n        features: ['comment_id', 'annotator_id', 'platform', 'sentiment', 'respect', 'insult', 'humiliate', 'status', 'dehumanize', 'violence', 'genocide', 'attack_defend', 'hatespeech', 'hate_speech_score', 'text', 'infitms', 'outfitms', 'annotator_severity', 'std_err', 'annotator_infitms', 'annotator_outfitms', 'hypothesis', 'target_race_asian', 'target_race_black', 'target_race_latinx', 'target_race_middle_eastern', 'target_race_native_american', 'target_race_pacific_islander', 'target_race_white', 'target_race_other', 'target_race', 'target_religion_atheist', 'target_religion_buddhist', 'target_religion_christian', 'target_religion_hindu', 'target_religion_jewish', 'target_religion_mormon', 'target_religion_muslim', 'target_religion_other', 'target_religion', 'target_origin_immigrant', 'target_origin_migrant_worker', 'target_origin_specific_country', 'target_origin_undocumented', 'target_origin_other', 'target_origin', 'target_gender_men', 'target_gender_non_binary', 'target_gender_transgender_men', 'target_gender_transgender_unspecified', 'target_gender_transgender_women', 'target_gender_women', 'target_gender_other', 'target_gender', 'target_sexuality_bisexual', 'target_sexuality_gay', 'target_sexuality_lesbian', 'target_sexuality_straight', 'target_sexuality_other', 'target_sexuality', 'target_age_children', 'target_age_teenagers', 'target_age_young_adults', 'target_age_middle_aged', 'target_age_seniors', 'target_age_other', 'target_age', 'target_disability_physical', 'target_disability_cognitive', 'target_disability_neurological', 'target_disability_visually_impaired', 'target_disability_hearing_impaired', 'target_disability_unspecific', 'target_disability_other', 'target_disability', 'annotator_gender', 'annotator_trans', 'annotator_educ', 'annotator_income', 'annotator_ideology', 'annotator_gender_men', 'annotator_gender_women', 'annotator_gender_non_binary', 'annotator_gender_prefer_not_to_say', 'annotator_gender_self_describe', 'annotator_transgender', 'annotator_cisgender', 'annotator_transgender_prefer_not_to_say', 'annotator_education_some_high_school', 'annotator_education_high_school_grad', 'annotator_education_some_college', 'annotator_education_college_grad_aa', 'annotator_education_college_grad_ba', 'annotator_education_professional_degree', 'annotator_education_masters', 'annotator_education_phd', 'annotator_income_<10k', 'annotator_income_10k-50k', 'annotator_income_50k-100k', 'annotator_income_100k-200k', 'annotator_income_>200k', 'annotator_ideology_extremeley_conservative', 'annotator_ideology_conservative', 'annotator_ideology_slightly_conservative', 'annotator_ideology_neutral', 'annotator_ideology_slightly_liberal', 'annotator_ideology_liberal', 'annotator_ideology_extremeley_liberal', 'annotator_ideology_no_opinion', 'annotator_race_asian', 'annotator_race_black', 'annotator_race_latinx', 'annotator_race_middle_eastern', 'annotator_race_native_american', 'annotator_race_pacific_islander', 'annotator_race_white', 'annotator_race_other', 'annotator_age', 'annotator_religion_atheist', 'annotator_religion_buddhist', 'annotator_religion_christian', 'annotator_religion_hindu', 'annotator_religion_jewish', 'annotator_religion_mormon', 'annotator_religion_muslim', 'annotator_religion_nothing', 'annotator_religion_other', 'annotator_sexuality_bisexual', 'annotator_sexuality_gay', 'annotator_sexuality_straight', 'annotator_sexuality_other'],\n        num_rows: 135556\n    })\n})"
     },
     "execution_count": 74,
     "metadata": {},
     "output_type": "execute_result"
    }
   ],
   "source": [
    "hate_severity_data"
   ],
   "metadata": {
    "collapsed": false
   }
  },
  {
   "cell_type": "code",
   "execution_count": 79,
   "outputs": [
    {
     "data": {
      "text/plain": "12        @terryelaineh1 @UKLabour Why do 3.8 million #5...\n16        @ghostofthor same energy as the \"YOU DONT LOOK...\n17        @suddenlywestan Because you are a country of m...\n30                   @KeGutta These niggas straight bitches\n36        @LT Wilson I think you are a joke for assuming...\n                                ...                        \n122412    @blackrepublican how long after the name chang...\n122421    @blackrepublican how long after the name chang...\n135549    Umar khalid, sahela rashid, kanhiyan kumar जैस...\n135550    @AbeShinzo @realDonaldTrump @shinzoabe 独裁者は行きま...\n135553    @AbeShinzo @realDonaldTrump @shinzoabe 独裁者は行きま...\nName: text, Length: 16305, dtype: object"
     },
     "execution_count": 79,
     "metadata": {},
     "output_type": "execute_result"
    }
   ],
   "source": [
    "df[df['text'].str.contains('@')]['text']\n"
   ],
   "metadata": {
    "collapsed": false
   }
  },
  {
   "cell_type": "code",
   "execution_count": 80,
   "outputs": [
    {
     "data": {
      "text/plain": "        comment_id  annotator_id  platform  sentiment  respect  insult  \\\n0            47777         10873         3        0.0      0.0     0.0   \n1            39773          2790         2        0.0      0.0     0.0   \n2            47101          3379         3        4.0      4.0     4.0   \n3            43625          7365         3        2.0      3.0     2.0   \n4            12538           488         0        4.0      4.0     4.0   \n...            ...           ...       ...        ...      ...     ...   \n135551       37080          8590         2        1.0      1.0     0.0   \n135552       22986          8303         2        2.0      0.0     0.0   \n135553       21008          6207         2        1.0      1.0     1.0   \n135554       22986          7886         2        2.0      0.0     0.0   \n135555       14785          6897         0        4.0      4.0     4.0   \n\n        humiliate  status  dehumanize  violence  ...  \\\n0             0.0     2.0         0.0       0.0  ...   \n1             0.0     2.0         0.0       0.0  ...   \n2             4.0     4.0         4.0       0.0  ...   \n3             1.0     2.0         0.0       0.0  ...   \n4             4.0     4.0         4.0       4.0  ...   \n...           ...     ...         ...       ...  ...   \n135551        0.0     2.0         0.0       0.0  ...   \n135552        0.0     2.0         0.0       0.0  ...   \n135553        1.0     1.0         0.0       0.0  ...   \n135554        0.0     2.0         0.0       0.0  ...   \n135555        2.0     2.0         2.0       3.0  ...   \n\n        annotator_religion_hindu  annotator_religion_jewish  \\\n0                          False                      False   \n1                          False                      False   \n2                          False                      False   \n3                          False                      False   \n4                          False                      False   \n...                          ...                        ...   \n135551                     False                      False   \n135552                     False                      False   \n135553                     False                      False   \n135554                     False                      False   \n135555                     False                      False   \n\n        annotator_religion_mormon  annotator_religion_muslim  \\\n0                           False                      False   \n1                           False                      False   \n2                           False                      False   \n3                           False                      False   \n4                           False                      False   \n...                           ...                        ...   \n135551                      False                      False   \n135552                      False                      False   \n135553                      False                      False   \n135554                      False                      False   \n135555                      False                      False   \n\n       annotator_religion_nothing  annotator_religion_other  \\\n0                           False                     False   \n1                           False                     False   \n2                            True                     False   \n3                           False                     False   \n4                           False                     False   \n...                           ...                       ...   \n135551                      False                     False   \n135552                      False                      True   \n135553                      False                     False   \n135554                       True                     False   \n135555                      False                     False   \n\n        annotator_sexuality_bisexual  annotator_sexuality_gay  \\\n0                              False                    False   \n1                              False                    False   \n2                              False                    False   \n3                              False                    False   \n4                              False                    False   \n...                              ...                      ...   \n135551                         False                    False   \n135552                          True                    False   \n135553                         False                    False   \n135554                         False                    False   \n135555                         False                    False   \n\n        annotator_sexuality_straight  annotator_sexuality_other  \n0                               True                      False  \n1                               True                      False  \n2                               True                      False  \n3                               True                      False  \n4                               True                      False  \n...                              ...                        ...  \n135551                          True                      False  \n135552                         False                      False  \n135553                          True                      False  \n135554                          True                      False  \n135555                          True                      False  \n\n[135556 rows x 131 columns]",
      "text/html": "<div>\n<style scoped>\n    .dataframe tbody tr th:only-of-type {\n        vertical-align: middle;\n    }\n\n    .dataframe tbody tr th {\n        vertical-align: top;\n    }\n\n    .dataframe thead th {\n        text-align: right;\n    }\n</style>\n<table border=\"1\" class=\"dataframe\">\n  <thead>\n    <tr style=\"text-align: right;\">\n      <th></th>\n      <th>comment_id</th>\n      <th>annotator_id</th>\n      <th>platform</th>\n      <th>sentiment</th>\n      <th>respect</th>\n      <th>insult</th>\n      <th>humiliate</th>\n      <th>status</th>\n      <th>dehumanize</th>\n      <th>violence</th>\n      <th>...</th>\n      <th>annotator_religion_hindu</th>\n      <th>annotator_religion_jewish</th>\n      <th>annotator_religion_mormon</th>\n      <th>annotator_religion_muslim</th>\n      <th>annotator_religion_nothing</th>\n      <th>annotator_religion_other</th>\n      <th>annotator_sexuality_bisexual</th>\n      <th>annotator_sexuality_gay</th>\n      <th>annotator_sexuality_straight</th>\n      <th>annotator_sexuality_other</th>\n    </tr>\n  </thead>\n  <tbody>\n    <tr>\n      <th>0</th>\n      <td>47777</td>\n      <td>10873</td>\n      <td>3</td>\n      <td>0.0</td>\n      <td>0.0</td>\n      <td>0.0</td>\n      <td>0.0</td>\n      <td>2.0</td>\n      <td>0.0</td>\n      <td>0.0</td>\n      <td>...</td>\n      <td>False</td>\n      <td>False</td>\n      <td>False</td>\n      <td>False</td>\n      <td>False</td>\n      <td>False</td>\n      <td>False</td>\n      <td>False</td>\n      <td>True</td>\n      <td>False</td>\n    </tr>\n    <tr>\n      <th>1</th>\n      <td>39773</td>\n      <td>2790</td>\n      <td>2</td>\n      <td>0.0</td>\n      <td>0.0</td>\n      <td>0.0</td>\n      <td>0.0</td>\n      <td>2.0</td>\n      <td>0.0</td>\n      <td>0.0</td>\n      <td>...</td>\n      <td>False</td>\n      <td>False</td>\n      <td>False</td>\n      <td>False</td>\n      <td>False</td>\n      <td>False</td>\n      <td>False</td>\n      <td>False</td>\n      <td>True</td>\n      <td>False</td>\n    </tr>\n    <tr>\n      <th>2</th>\n      <td>47101</td>\n      <td>3379</td>\n      <td>3</td>\n      <td>4.0</td>\n      <td>4.0</td>\n      <td>4.0</td>\n      <td>4.0</td>\n      <td>4.0</td>\n      <td>4.0</td>\n      <td>0.0</td>\n      <td>...</td>\n      <td>False</td>\n      <td>False</td>\n      <td>False</td>\n      <td>False</td>\n      <td>True</td>\n      <td>False</td>\n      <td>False</td>\n      <td>False</td>\n      <td>True</td>\n      <td>False</td>\n    </tr>\n    <tr>\n      <th>3</th>\n      <td>43625</td>\n      <td>7365</td>\n      <td>3</td>\n      <td>2.0</td>\n      <td>3.0</td>\n      <td>2.0</td>\n      <td>1.0</td>\n      <td>2.0</td>\n      <td>0.0</td>\n      <td>0.0</td>\n      <td>...</td>\n      <td>False</td>\n      <td>False</td>\n      <td>False</td>\n      <td>False</td>\n      <td>False</td>\n      <td>False</td>\n      <td>False</td>\n      <td>False</td>\n      <td>True</td>\n      <td>False</td>\n    </tr>\n    <tr>\n      <th>4</th>\n      <td>12538</td>\n      <td>488</td>\n      <td>0</td>\n      <td>4.0</td>\n      <td>4.0</td>\n      <td>4.0</td>\n      <td>4.0</td>\n      <td>4.0</td>\n      <td>4.0</td>\n      <td>4.0</td>\n      <td>...</td>\n      <td>False</td>\n      <td>False</td>\n      <td>False</td>\n      <td>False</td>\n      <td>False</td>\n      <td>False</td>\n      <td>False</td>\n      <td>False</td>\n      <td>True</td>\n      <td>False</td>\n    </tr>\n    <tr>\n      <th>...</th>\n      <td>...</td>\n      <td>...</td>\n      <td>...</td>\n      <td>...</td>\n      <td>...</td>\n      <td>...</td>\n      <td>...</td>\n      <td>...</td>\n      <td>...</td>\n      <td>...</td>\n      <td>...</td>\n      <td>...</td>\n      <td>...</td>\n      <td>...</td>\n      <td>...</td>\n      <td>...</td>\n      <td>...</td>\n      <td>...</td>\n      <td>...</td>\n      <td>...</td>\n      <td>...</td>\n    </tr>\n    <tr>\n      <th>135551</th>\n      <td>37080</td>\n      <td>8590</td>\n      <td>2</td>\n      <td>1.0</td>\n      <td>1.0</td>\n      <td>0.0</td>\n      <td>0.0</td>\n      <td>2.0</td>\n      <td>0.0</td>\n      <td>0.0</td>\n      <td>...</td>\n      <td>False</td>\n      <td>False</td>\n      <td>False</td>\n      <td>False</td>\n      <td>False</td>\n      <td>False</td>\n      <td>False</td>\n      <td>False</td>\n      <td>True</td>\n      <td>False</td>\n    </tr>\n    <tr>\n      <th>135552</th>\n      <td>22986</td>\n      <td>8303</td>\n      <td>2</td>\n      <td>2.0</td>\n      <td>0.0</td>\n      <td>0.0</td>\n      <td>0.0</td>\n      <td>2.0</td>\n      <td>0.0</td>\n      <td>0.0</td>\n      <td>...</td>\n      <td>False</td>\n      <td>False</td>\n      <td>False</td>\n      <td>False</td>\n      <td>False</td>\n      <td>True</td>\n      <td>True</td>\n      <td>False</td>\n      <td>False</td>\n      <td>False</td>\n    </tr>\n    <tr>\n      <th>135553</th>\n      <td>21008</td>\n      <td>6207</td>\n      <td>2</td>\n      <td>1.0</td>\n      <td>1.0</td>\n      <td>1.0</td>\n      <td>1.0</td>\n      <td>1.0</td>\n      <td>0.0</td>\n      <td>0.0</td>\n      <td>...</td>\n      <td>False</td>\n      <td>False</td>\n      <td>False</td>\n      <td>False</td>\n      <td>False</td>\n      <td>False</td>\n      <td>False</td>\n      <td>False</td>\n      <td>True</td>\n      <td>False</td>\n    </tr>\n    <tr>\n      <th>135554</th>\n      <td>22986</td>\n      <td>7886</td>\n      <td>2</td>\n      <td>2.0</td>\n      <td>0.0</td>\n      <td>0.0</td>\n      <td>0.0</td>\n      <td>2.0</td>\n      <td>0.0</td>\n      <td>0.0</td>\n      <td>...</td>\n      <td>False</td>\n      <td>False</td>\n      <td>False</td>\n      <td>False</td>\n      <td>True</td>\n      <td>False</td>\n      <td>False</td>\n      <td>False</td>\n      <td>True</td>\n      <td>False</td>\n    </tr>\n    <tr>\n      <th>135555</th>\n      <td>14785</td>\n      <td>6897</td>\n      <td>0</td>\n      <td>4.0</td>\n      <td>4.0</td>\n      <td>4.0</td>\n      <td>2.0</td>\n      <td>2.0</td>\n      <td>2.0</td>\n      <td>3.0</td>\n      <td>...</td>\n      <td>False</td>\n      <td>False</td>\n      <td>False</td>\n      <td>False</td>\n      <td>False</td>\n      <td>False</td>\n      <td>False</td>\n      <td>False</td>\n      <td>True</td>\n      <td>False</td>\n    </tr>\n  </tbody>\n</table>\n<p>135556 rows × 131 columns</p>\n</div>"
     },
     "execution_count": 80,
     "metadata": {},
     "output_type": "execute_result"
    }
   ],
   "source": [
    "df"
   ],
   "metadata": {
    "collapsed": false
   }
  },
  {
   "cell_type": "code",
   "execution_count": null,
   "outputs": [],
   "source": [],
   "metadata": {
    "collapsed": false
   }
  }
 ],
 "metadata": {
  "kernelspec": {
   "display_name": "Python 3",
   "language": "python",
   "name": "python3"
  },
  "language_info": {
   "codemirror_mode": {
    "name": "ipython",
    "version": 2
   },
   "file_extension": ".py",
   "mimetype": "text/x-python",
   "name": "python",
   "nbconvert_exporter": "python",
   "pygments_lexer": "ipython2",
   "version": "2.7.6"
  }
 },
 "nbformat": 4,
 "nbformat_minor": 0
}
