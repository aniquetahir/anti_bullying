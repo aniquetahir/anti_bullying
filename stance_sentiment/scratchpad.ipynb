{
 "cells": [
  {
   "cell_type": "code",
   "execution_count": 1,
   "id": "initial_id",
   "metadata": {
    "collapsed": true,
    "ExecuteTime": {
     "end_time": "2023-12-07T21:43:56.241029282Z",
     "start_time": "2023-12-07T21:43:56.022118553Z"
    }
   },
   "outputs": [],
   "source": [
    "from dataset_creation import get_sentiment_dataset, get_stance_dataset, SPLIT_TRAIN, SPLIT_VAL, SPLIT_TEST\n",
    "from tqdm import tqdm \n",
    "import json"
   ]
  },
  {
   "cell_type": "markdown",
   "source": [
    "## Sample Query\n",
    "```\n",
    "beam(2)\n",
    "\"\"\"Below is an instruction that describes a task, paired with an input that provides further context. Write a response that appropriately completes the request.\n",
    "\n",
    "### Instruction:\n",
    "The input contains a tweet from social media.\n",
    "First explain the tweet. Then, select the sentiment of the tweet given in the input. Select the sentiment from:\n",
    "- negative\n",
    "- neutral\n",
    "- positive\n",
    "\n",
    "### Input\n",
    "So disappointed in wwe summerslam! I want to see john cena wins his 16th title\n",
    "\n",
    "### Response:\n",
    "Explanation:\n",
    "[EXPLN]\n",
    "\n",
    "Sentiment:\n",
    "[RESPONSE]\n",
    "\"\"\"\n",
    "from \n",
    "    lmql.model(\"/scratch/artahir/llama/hf_weights/llama2-13B-phase2-aug\")\n",
    "where\n",
    "    len(EXPLN) < 200 and\n",
    "    len(RESPONSE) < 100 and \n",
    "    RESPONSE in [\"negative\", \"neutral\", \"positive\"]\n",
    "```"
   ],
   "metadata": {
    "collapsed": false
   },
   "id": "cc3b5c24bb79eb8c"
  },
  {
   "cell_type": "code",
   "execution_count": 2,
   "outputs": [],
   "source": [
    "STANCE_SAVE_PATH = \"stance_alpaca.json\"\n",
    "SENTIMENT_SAVE_PATH = \"sentiment_alpaca.json\""
   ],
   "metadata": {
    "collapsed": false,
    "ExecuteTime": {
     "end_time": "2023-12-07T21:43:57.506885011Z",
     "start_time": "2023-12-07T21:43:57.505255587Z"
    }
   },
   "id": "ee6be9dcf5d925ed"
  },
  {
   "cell_type": "code",
   "execution_count": 3,
   "outputs": [],
   "source": [
    "# format the data as instruction/input/output\n",
    "INSTRUCTION_SENTIMENT_COT = \"\"\"The input contains a tweet from social media.\n",
    "First explain the tweet. Then, select the sentiment of the tweet given in the input. Select the sentiment from:\n",
    "- negative\n",
    "- neutral\n",
    "- positive\"\"\"\n",
    "\n",
    "INSTRUCTION_STANCE_COT = \"\"\"The input contains a tweet from social media.\n",
    "First explain the tweet. Then, select the stance of the tweet given in the input. Select the stance from:\n",
    "- none\n",
    "- against\n",
    "- favor\"\"\"\n",
    "\n",
    "MAPPING_STANCE = {\n",
    "    0: 'none',\n",
    "    1: 'against', \n",
    "    2: 'favor'\n",
    "}\n",
    "\n",
    "MAPPING_SENTIMENT = {\n",
    "    0: 'negative',\n",
    "    1: 'neutral',\n",
    "    2: 'positive'\n",
    "}"
   ],
   "metadata": {
    "collapsed": false,
    "ExecuteTime": {
     "end_time": "2023-12-07T21:43:58.491988323Z",
     "start_time": "2023-12-07T21:43:58.489804360Z"
    }
   },
   "id": "93e4c3bece9dd93b"
  },
  {
   "cell_type": "code",
   "execution_count": 4,
   "outputs": [
    {
     "name": "stderr",
     "output_type": "stream",
     "text": [
      "100%|██████████| 3/3 [00:00<00:00, 87.99it/s]\n",
      "100%|██████████| 3/3 [00:00<00:00, 24.06it/s]\n"
     ]
    }
   ],
   "source": [
    "dataset_stance = {\n",
    "    'train': [], \n",
    "    'test': [],\n",
    "    'val': []\n",
    "}\n",
    "\n",
    "dataset_sentiment = {\n",
    "    'train': [],\n",
    "    'test': [],\n",
    "    'val': []\n",
    "}\n",
    "\n",
    "for split_name, split in tqdm([('train', SPLIT_TRAIN), ('test', SPLIT_TEST), ('val', SPLIT_VAL)]):\n",
    "    x, y = get_stance_dataset(split)\n",
    "    x, y = x.to_numpy(), y.to_numpy()\n",
    "    iter_data = zip(x, y)\n",
    "    for x_i, y_i in iter_data:\n",
    "        dataset_stance[split].append(\n",
    "            {\n",
    "                'instruction': INSTRUCTION_STANCE_COT,\n",
    "                'input': x_i.item(),\n",
    "                'output': MAPPING_STANCE[y_i.item()]\n",
    "            }\n",
    "        )\n",
    "\n",
    "for split_name, split in tqdm([('train', SPLIT_TRAIN), ('test', SPLIT_TEST), ('val', SPLIT_VAL)]):\n",
    "    x, y = get_sentiment_dataset(split)\n",
    "    x, y = x.to_numpy(), y.to_numpy()\n",
    "    iter_data = zip(x, y)\n",
    "    for x_i, y_i in iter_data:\n",
    "        dataset_sentiment[split].append(\n",
    "            {\n",
    "                'instruction': INSTRUCTION_SENTIMENT_COT,\n",
    "                'input': x_i.item(),\n",
    "                'output': MAPPING_SENTIMENT[y_i.item()]\n",
    "            }\n",
    "        )"
   ],
   "metadata": {
    "collapsed": false,
    "ExecuteTime": {
     "end_time": "2023-12-07T21:43:59.412728784Z",
     "start_time": "2023-12-07T21:43:59.243199662Z"
    }
   },
   "id": "e4e35427a6189b81"
  },
  {
   "cell_type": "code",
   "execution_count": 5,
   "outputs": [],
   "source": [
    "with open(STANCE_SAVE_PATH, 'w') as stance_save_file:\n",
    "    json.dump(dataset_stance, stance_save_file, indent=2)\n",
    "    \n",
    "with open(SENTIMENT_SAVE_PATH, 'w') as sentiment_save_file:\n",
    "    json.dump(dataset_sentiment, sentiment_save_file, indent=2)"
   ],
   "metadata": {
    "collapsed": false,
    "ExecuteTime": {
     "end_time": "2023-12-07T21:44:00.430472869Z",
     "start_time": "2023-12-07T21:44:00.105786707Z"
    }
   },
   "id": "782a6a6143917fc3"
  },
  {
   "cell_type": "code",
   "execution_count": null,
   "outputs": [],
   "source": [],
   "metadata": {
    "collapsed": false
   },
   "id": "df86b8b04cd723df"
  },
  {
   "cell_type": "code",
   "execution_count": null,
   "outputs": [],
   "source": [],
   "metadata": {
    "collapsed": false
   },
   "id": "1ae4c2f06e838581"
  },
  {
   "cell_type": "markdown",
   "source": [
    "## Heapq exercises"
   ],
   "metadata": {
    "collapsed": false
   },
   "id": "3edf1de5f41e814"
  },
  {
   "cell_type": "code",
   "execution_count": 1,
   "outputs": [],
   "source": [
    "import bisect"
   ],
   "metadata": {
    "collapsed": false,
    "ExecuteTime": {
     "end_time": "2023-12-14T23:37:32.175556421Z",
     "start_time": "2023-12-14T23:37:32.174301870Z"
    }
   },
   "id": "f6faf0bce9a34057"
  },
  {
   "cell_type": "code",
   "execution_count": 13,
   "outputs": [],
   "source": [
    "x = [1, 2, 3, 4, 5, 6, 7, 8, 9, 10]"
   ],
   "metadata": {
    "collapsed": false,
    "ExecuteTime": {
     "end_time": "2023-12-14T23:40:27.052194139Z",
     "start_time": "2023-12-14T23:40:27.041198094Z"
    }
   },
   "id": "41dbb7bf8682bc5a"
  },
  {
   "cell_type": "code",
   "execution_count": 15,
   "outputs": [
    {
     "data": {
      "text/plain": "4"
     },
     "execution_count": 15,
     "metadata": {},
     "output_type": "execute_result"
    }
   ],
   "source": [
    "bisect.bisect_left(x, 4.5)"
   ],
   "metadata": {
    "collapsed": false,
    "ExecuteTime": {
     "end_time": "2023-12-14T23:40:30.267573433Z",
     "start_time": "2023-12-14T23:40:30.258657067Z"
    }
   },
   "id": "e5f88f6727edf969"
  },
  {
   "cell_type": "code",
   "execution_count": 6,
   "outputs": [],
   "source": [
    "x = [6,5,4,3,2,1]"
   ],
   "metadata": {
    "collapsed": false,
    "ExecuteTime": {
     "end_time": "2023-12-14T23:39:01.630786176Z",
     "start_time": "2023-12-14T23:39:01.605082674Z"
    }
   },
   "id": "e49874767dca4809"
  },
  {
   "cell_type": "code",
   "execution_count": 7,
   "outputs": [
    {
     "data": {
      "text/plain": "6"
     },
     "execution_count": 7,
     "metadata": {},
     "output_type": "execute_result"
    }
   ],
   "source": [
    "bisect.bisect_left(x, 3.5)"
   ],
   "metadata": {
    "collapsed": false,
    "ExecuteTime": {
     "end_time": "2023-12-14T23:39:09.496744698Z",
     "start_time": "2023-12-14T23:39:09.480562460Z"
    }
   },
   "id": "63078a4992fd2cbe"
  },
  {
   "cell_type": "code",
   "execution_count": 11,
   "outputs": [],
   "source": [
    "bisect.insort(x, 3.5)"
   ],
   "metadata": {
    "collapsed": false,
    "ExecuteTime": {
     "end_time": "2023-12-14T23:40:19.180165763Z",
     "start_time": "2023-12-14T23:40:19.172159920Z"
    }
   },
   "id": "f1bbce5ddb83db6c"
  },
  {
   "cell_type": "code",
   "execution_count": 16,
   "outputs": [
    {
     "data": {
      "text/plain": "[1, 2, 3, 4, 5, 6, 7, 8, 9, 10]"
     },
     "execution_count": 16,
     "metadata": {},
     "output_type": "execute_result"
    }
   ],
   "source": [
    "x"
   ],
   "metadata": {
    "collapsed": false,
    "ExecuteTime": {
     "end_time": "2023-12-14T23:40:32.276463793Z",
     "start_time": "2023-12-14T23:40:32.265573874Z"
    }
   },
   "id": "ed95dd1099131e6c"
  },
  {
   "cell_type": "code",
   "execution_count": 17,
   "outputs": [],
   "source": [
    "import heapq"
   ],
   "metadata": {
    "collapsed": false,
    "ExecuteTime": {
     "end_time": "2023-12-15T00:18:52.765829418Z",
     "start_time": "2023-12-15T00:18:52.721823050Z"
    }
   },
   "id": "99daeb1e8d7645c5"
  },
  {
   "cell_type": "code",
   "execution_count": 18,
   "outputs": [],
   "source": [
    "numbers = [3,1,4,1,5,9,2,6,5,3,5]"
   ],
   "metadata": {
    "collapsed": false,
    "ExecuteTime": {
     "end_time": "2023-12-15T00:19:22.698241851Z",
     "start_time": "2023-12-15T00:19:22.650711389Z"
    }
   },
   "id": "1b325f0fad6053ff"
  },
  {
   "cell_type": "code",
   "execution_count": 19,
   "outputs": [],
   "source": [
    "heapq.heapify(numbers)"
   ],
   "metadata": {
    "collapsed": false,
    "ExecuteTime": {
     "end_time": "2023-12-15T00:19:31.113687510Z",
     "start_time": "2023-12-15T00:19:31.102772421Z"
    }
   },
   "id": "a86675fb98d1f73f"
  },
  {
   "cell_type": "code",
   "execution_count": 20,
   "outputs": [
    {
     "data": {
      "text/plain": "[1, 1, 2, 3, 3, 9, 4, 6, 5, 5, 5]"
     },
     "execution_count": 20,
     "metadata": {},
     "output_type": "execute_result"
    }
   ],
   "source": [
    "numbers"
   ],
   "metadata": {
    "collapsed": false,
    "ExecuteTime": {
     "end_time": "2023-12-15T00:19:40.702316661Z",
     "start_time": "2023-12-15T00:19:40.660566741Z"
    }
   },
   "id": "a6d9e8ad6ef0cc29"
  },
  {
   "cell_type": "code",
   "execution_count": 21,
   "outputs": [],
   "source": [
    "heapq.heappush(numbers, 7)"
   ],
   "metadata": {
    "collapsed": false,
    "ExecuteTime": {
     "end_time": "2023-12-15T00:21:23.623057614Z",
     "start_time": "2023-12-15T00:21:23.577558915Z"
    }
   },
   "id": "b4786e0678d1ec83"
  },
  {
   "cell_type": "code",
   "execution_count": 22,
   "outputs": [
    {
     "data": {
      "text/plain": "[1, 1, 2, 3, 3, 7, 4, 6, 5, 5, 5, 9]"
     },
     "execution_count": 22,
     "metadata": {},
     "output_type": "execute_result"
    }
   ],
   "source": [
    "numbers"
   ],
   "metadata": {
    "collapsed": false,
    "ExecuteTime": {
     "end_time": "2023-12-15T00:21:27.609642045Z",
     "start_time": "2023-12-15T00:21:27.589437026Z"
    }
   },
   "id": "20edb70971815f3e"
  },
  {
   "cell_type": "code",
   "execution_count": null,
   "outputs": [],
   "source": [],
   "metadata": {
    "collapsed": false
   },
   "id": "18f282b37e585755"
  }
 ],
 "metadata": {
  "kernelspec": {
   "display_name": "Python 3",
   "language": "python",
   "name": "python3"
  },
  "language_info": {
   "codemirror_mode": {
    "name": "ipython",
    "version": 2
   },
   "file_extension": ".py",
   "mimetype": "text/x-python",
   "name": "python",
   "nbconvert_exporter": "python",
   "pygments_lexer": "ipython2",
   "version": "2.7.6"
  }
 },
 "nbformat": 4,
 "nbformat_minor": 5
}
